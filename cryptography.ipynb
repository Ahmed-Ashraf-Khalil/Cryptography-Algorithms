{
 "cells": [
  {
   "cell_type": "code",
   "execution_count": 1,
   "id": "f1dbe86c-2e0f-4e52-b6f4-7ab44588b015",
   "metadata": {},
   "outputs": [],
   "source": [
    "import pandas as pd\n",
    "import numpy as np"
   ]
  },
  {
   "cell_type": "markdown",
   "id": "d6693c40-9109-4034-a47a-5eb140b06151",
   "metadata": {},
   "source": [
    "# Words and numbers "
   ]
  },
  {
   "cell_type": "code",
   "execution_count": 3,
   "id": "208d3705-674e-41fc-9c23-2b69483b99af",
   "metadata": {},
   "outputs": [],
   "source": [
    "dictionary_of_words = {'a': 0,'b': 1,'c': 2,'d': 3,'e': 4,'f': 5,'g': 6,'h': 7,'i': 8,\n",
    " 'j': 9,'k': 10,'l': 11,'m': 12,'n': 13,'o': 14,'p': 15,'q': 16,\n",
    " 'r': 17,'s': 18,'t': 19,'u': 20,'v': 21,'w': 22,'x': 23,'y': 24,'z': 25}\n",
    "\n",
    "dictionary_for_reverse = {'a': 'z', 'b': 'y','c': 'x','d': 'w','e': 'v', 'f': 'u','g': 't'\n",
    "                          ,'h': 's','i': 'r','j': 'q','k': 'p','l': 'o', 'm': 'n', 'n': 'm'\n",
    "                          , 'o': 'l','p': 'k','q': 'j','r': 'i','s': 'h','t': 'g','u': 'f'\n",
    "                          ,'v': 'e','w': 'd','x': 'c','y': 'b', 'z': 'a'}\n",
    "\n",
    "inverses={3:9,5:21,7:15,9:3,11:19,13:13,15:7,17:23,19:11,21:11}\n",
    "\n",
    "do={\"A\":['a', 'f', 'k', 'p', 'u'],\n",
    "    \"B\":['b', 'g', 'l', \"q,z\", 'v'],\n",
    "    \"C\":['c', 'h', 'm', 'r', 'w'],\n",
    "    \"D\":['d', 'i', 'n', 's', 'x'],\n",
    "    \"E\":['e', 'j', 'o', 't', 'y']}\n",
    "\n",
    "do_df = pd.read_csv(\"subs_trans_dict.csv\").set_index(\"Unnamed: 0\")"
   ]
  },
  {
   "cell_type": "markdown",
   "id": "e28ba54a-81f3-4a00-9e5e-eeed6017469c",
   "metadata": {},
   "source": [
    "___"
   ]
  },
  {
   "cell_type": "markdown",
   "id": "57f1cd14-9ef9-4932-9515-622dd0cbe1d0",
   "metadata": {},
   "source": [
    "# caeser cipher\n",
    "**type of substitution cipher in which each letter in the plaintext is replaced by a letter some fixed number of positions down the alphabet**\n",
    "<br>\n",
    "<br>\n",
    "$$ encryption(word) = ( word + key ) mod 26$$\n",
    "<br>\n",
    "$$ decryption(word) = ( word - key ) mod 26$$"
   ]
  },
  {
   "cell_type": "code",
   "execution_count": 3,
   "id": "b5ed0c38-ee6d-48c5-b93a-484628117f93",
   "metadata": {},
   "outputs": [],
   "source": [
    "def encode_caeser(text,key=3):# Encoding from plain text to caeser cipher\n",
    "    code = \"\"\n",
    "    lis = []\n",
    "    for i in text.split():\n",
    "        for j in i:\n",
    "            for n in dictionary_of_words.keys():\n",
    "                if dictionary_of_words[n] == (dictionary_of_words[j]+key)%26 :\n",
    "                    lis.append((dictionary_of_words[j]+key)%26)\n",
    "                    code+=n\n",
    "        code+=\" \"\n",
    "    return code.strip(),lis"
   ]
  },
  {
   "cell_type": "code",
   "execution_count": 4,
   "id": "9ee74d88-348d-44cc-bab3-20ea857cb29f",
   "metadata": {},
   "outputs": [],
   "source": [
    "def decode_caeser(text,key=3):# Decoding from caeser cipher to plain text\n",
    "    plain_text = \"\"\n",
    "    lis = []\n",
    "    for i in text.split():\n",
    "        for j in i:\n",
    "            for n in dictionary_of_words.keys():\n",
    "                if dictionary_of_words[n] == (dictionary_of_words[j] - key) %26 :\n",
    "                    lis.append((dictionary_of_words[j] - key) %26)\n",
    "                    plain_text+=n\n",
    "                    \n",
    "        plain_text+=\" \"\n",
    "    return plain_text.strip(),lis"
   ]
  },
  {
   "cell_type": "markdown",
   "id": "c0464c49-9afd-4728-a1db-b03be7a93c3c",
   "metadata": {},
   "source": [
    "___"
   ]
  },
  {
   "cell_type": "markdown",
   "id": "91f036b6-ab2b-4c94-bd1e-0443293007a1",
   "metadata": {},
   "source": [
    "# rot13 cipher\n",
    "**same as caeser cipher but with a fixed key = 13**\n",
    "<br>\n",
    "$$ encryption(word) = ( word + 13 ) mod 26$$\n",
    "<br>\n",
    "$$ decryption(word) = ( word - 13 ) mod 26$$"
   ]
  },
  {
   "cell_type": "code",
   "execution_count": 4,
   "id": "5b6c8e58-01b5-409d-9d23-bc8c7c52c18b",
   "metadata": {},
   "outputs": [],
   "source": [
    "def encode_rot13(text):# Encoding from plain text to rot13 cipher\n",
    "    code = \"\"\n",
    "    lis = []\n",
    "    for i in text.split():\n",
    "        for j in i:\n",
    "            for n in dictionary_of_words.keys():\n",
    "                if dictionary_of_words[n] == (dictionary_of_words[j]+13)%26 :\n",
    "                    lis.append((dictionary_of_words[j]+13)%26)\n",
    "                    code+=n\n",
    "        code+=\" \"\n",
    "    return code.strip(),lis"
   ]
  },
  {
   "cell_type": "code",
   "execution_count": 5,
   "id": "42bfcc1b-28d5-464c-bf95-c3e461eebd59",
   "metadata": {},
   "outputs": [],
   "source": [
    "def decode_rot13(text):# Decoding from rot13 cipher to plain text\n",
    "    plain_text = \"\"\n",
    "    lis=[]\n",
    "    for i in text.split():\n",
    "        for j in i:\n",
    "            for n in dictionary_of_words.keys():\n",
    "                if dictionary_of_words[n] == (dictionary_of_words[j] - 13) %26 :\n",
    "                    lis.append((dictionary_of_words[j] - 13) %26)\n",
    "                    plain_text+=n\n",
    "        plain_text+=\" \"\n",
    "    return plain_text.strip(),lis"
   ]
  },
  {
   "cell_type": "markdown",
   "id": "f8fa79d4-4620-47dd-8853-3ce46c2cffeb",
   "metadata": {},
   "source": [
    "_______________________"
   ]
  },
  {
   "cell_type": "markdown",
   "id": "208d0e41-8717-49f3-bd9c-91796b6346a5",
   "metadata": {},
   "source": [
    "# reverse (Alphabet) cipher\n",
    "**replace A with Z , B with y and C with X and so on ..**"
   ]
  },
  {
   "cell_type": "code",
   "execution_count": 7,
   "id": "e72d6e5a-7993-4a4b-9f6e-d24ac0133c23",
   "metadata": {},
   "outputs": [],
   "source": [
    "def encode_reverse(text):# Encoding from plain text to reverse cipher\n",
    "    code = \"\"\n",
    "    for i in text.split():\n",
    "        for j in i:\n",
    "            code+=dictionary_for_reverse[j]\n",
    "        code+=\" \"\n",
    "    return code.strip()"
   ]
  },
  {
   "cell_type": "code",
   "execution_count": 8,
   "id": "eec5ac8c-a793-426a-82b8-0e8c07f84361",
   "metadata": {},
   "outputs": [],
   "source": [
    "def decode_reverse(text):# Decoding from reverse cipher to plain text\n",
    "    plain_text = \"\"\n",
    "    for i in text.split():\n",
    "        for j in i:\n",
    "            plain_text+=dictionary_for_reverse[j]\n",
    "        plain_text+=\" \"\n",
    "    return plain_text.strip()"
   ]
  },
  {
   "cell_type": "markdown",
   "id": "2410e9cc-6230-4e22-a411-3fc7a6a35e8b",
   "metadata": {},
   "source": [
    "____________"
   ]
  },
  {
   "cell_type": "markdown",
   "id": "1cb900cc-dc09-41ef-8d4f-0632b112a1b3",
   "metadata": {},
   "source": [
    "# Rail fence cipher\n",
    "**splitting the plain text to two lines adding word by word to each line alternating and then compining them**\n",
    "<br>\n",
    "**plain text = A B C D E F**\n",
    "<br>\n",
    " A . C . E .\n",
    "<br>\n",
    " . B . D . F\n",
    "<br>\n",
    "**Cipher text = A C E B D F**"
   ]
  },
  {
   "cell_type": "code",
   "execution_count": 6,
   "id": "adfd400e-3e66-4a04-a4c2-d04b892e53a1",
   "metadata": {},
   "outputs": [],
   "source": [
    "def encode_rail_fence(text):\n",
    "    code1 = \"\"\n",
    "    code2 = \"\"\n",
    "    toggle = 0\n",
    "    for i in text.split():\n",
    "        for j in i:\n",
    "            if toggle == 1:\n",
    "                code2 += j\n",
    "                toggle = 0\n",
    "            elif toggle == 0:\n",
    "                code1 += j\n",
    "                toggle = 1\n",
    "    return code1+ \" \" +code2"
   ]
  },
  {
   "cell_type": "markdown",
   "id": "4160d057-1c07-44d4-a9d2-2b8bb9e5f72a",
   "metadata": {},
   "source": [
    "_______________"
   ]
  },
  {
   "cell_type": "markdown",
   "id": "6424f3a7-796d-43c3-9073-410be37483cf",
   "metadata": {},
   "source": [
    "# Multiplicative Cipher\n",
    "**instead of addition like caeser cipher we use multiplication**\n",
    "<br>\n",
    "$$ encryption(word) = ( word * key ) mod 26$$\n",
    "<br>\n",
    "$$ decryption(word) = ( word * key^{-1} ) mod 26$$"
   ]
  },
  {
   "cell_type": "code",
   "execution_count": 10,
   "id": "f6ff43d7-86ba-485d-8ab6-0126421f6a43",
   "metadata": {},
   "outputs": [],
   "source": [
    "def encode_multiplicative(text,key=3):\n",
    "    code = \"\"\n",
    "    lis=[]\n",
    "    for i in text.split():\n",
    "        for j in i:\n",
    "            for n in dictionary_of_words.keys():\n",
    "                if dictionary_of_words[n] == (dictionary_of_words[j]*key)%26 :\n",
    "                    lis.append((dictionary_of_words[j]*key)%26)\n",
    "                    code+=n\n",
    "        code+=\" \"\n",
    "    return code.strip(),lis"
   ]
  },
  {
   "cell_type": "code",
   "execution_count": 11,
   "id": "1bea76e0-db1b-47e1-8b02-60f1e8d6e242",
   "metadata": {},
   "outputs": [],
   "source": [
    "def decode_multiplicative(text,key=3):\n",
    "    plain_text = \"\"\n",
    "    lis=[]\n",
    "    for i in text.split():\n",
    "        for j in i:\n",
    "            for n in dictionary_of_words.keys():\n",
    "                if dictionary_of_words[n] == (dictionary_of_words[j] * (inverses[key])) %26 :\n",
    "                    lis.append((dictionary_of_words[j] * (inverses[key])) %26)\n",
    "                    plain_text+=n\n",
    "        plain_text+=\" \"\n",
    "    return plain_text.strip(),lis"
   ]
  },
  {
   "cell_type": "markdown",
   "id": "e9aa221f-5eb3-4b05-9769-2615e7912735",
   "metadata": {},
   "source": [
    "_______________"
   ]
  },
  {
   "cell_type": "markdown",
   "id": "8c182d84-3a3b-4622-a170-dd9a378ede63",
   "metadata": {},
   "source": [
    "# Affine cipher\n",
    "**using the same idea of multiplication and addition but also using two keys**\n",
    "<br>\n",
    "$$ encryption(word) = ( (word * key_1) + key_2 ) mod 26$$\n",
    "<br>\n",
    "$$ decryption(word) = ( (word - key_2) * key_1^{-1} ) mod 26$$"
   ]
  },
  {
   "cell_type": "code",
   "execution_count": 12,
   "id": "e44459df-e665-437c-ab1d-ea98afa8bf65",
   "metadata": {},
   "outputs": [],
   "source": [
    "def encode_affine(text,key1,key2):\n",
    "    code = \"\"\n",
    "    lis=[]\n",
    "    for i in text.split():\n",
    "        for j in i:\n",
    "            for n in dictionary_of_words.keys():\n",
    "                if dictionary_of_words[n] == (dictionary_of_words[j]*key1+key2)%26 :\n",
    "                    lis.append((dictionary_of_words[j]*key1+key2)%26)\n",
    "                    code+=n\n",
    "        code+=\" \"\n",
    "    return code.strip(),lis"
   ]
  },
  {
   "cell_type": "code",
   "execution_count": 13,
   "id": "97c5f81e-3904-4a44-a63f-9080424c8175",
   "metadata": {},
   "outputs": [],
   "source": [
    "def decode_affine(text,key1,key2):\n",
    "    plain_text = \"\"\n",
    "    lis=[]\n",
    "    for i in text.split():\n",
    "        for j in i:\n",
    "            for n in dictionary_of_words.keys():\n",
    "                if dictionary_of_words[n] == ((dictionary_of_words[j]-key2)*inverses[key1])%26 :\n",
    "                    lis.append(((dictionary_of_words[j]-key2)*inverses[key1])%26)\n",
    "                    plain_text+=n\n",
    "        plain_text+=\" \"\n",
    "    return plain_text.strip(),lis"
   ]
  },
  {
   "cell_type": "markdown",
   "id": "3803bf68-3894-4a37-9aee-0e8bc9bc7bc2",
   "metadata": {},
   "source": [
    "_______________"
   ]
  },
  {
   "cell_type": "markdown",
   "id": "712aea5d-d90a-49e5-afe0-e6b1cb6e853a",
   "metadata": {},
   "source": [
    "# Autokey cipher\n",
    "**using the text as a key to encrypt**\n",
    "\n",
    "**text = cryptographic**\n",
    "<br>\n",
    "**key = eng**\n",
    "<br>\n",
    "---|---|---|---|---|---|---|---|---|---|---|---|---\n",
    "---|---|---|---|---|---|---|---|---|---|---|---|---\n",
    "c|r|y|p|t|o|g|r|a|p|h|i|c\n",
    "2|17|24|15|19|14|6|17|0|15|7|8|2\n",
    "<br>\n",
    "e|n|g|e|n|g|e|n|g|e|n|g|e\n",
    "4|13|6|4|13|6|4|13|6|4|13|6|4\n",
    "\n",
    "<br>\n",
    "$$(word+text)mod26$$\n",
    "\n",
    "**answer :**\n",
    "g|e|e|t|g|u|k|e|g|t|u|o|g\n",
    "---|---|---|---|---|---|---|---|---|---|---|---|---\n",
    "6|4|4|19|6|20|10|4|6|19|20|14|6"
   ]
  },
  {
   "cell_type": "code",
   "execution_count": 56,
   "id": "76082b5f-d32e-4e9c-8261-2874ea57b3ed",
   "metadata": {},
   "outputs": [],
   "source": [
    "def encode_auto_key(text,key):\n",
    "    code=\"\"\n",
    "    key_stream = key.lower().replace(\" \",\"\")\n",
    "    text=text.lower().replace(\" \",\"\")\n",
    "    lop=0\n",
    "    \n",
    "    \n",
    "    key_stream = key_stream*len(text)\n",
    "    key_stream = key_stream[:len(text)]\n",
    "    \n",
    "    for i in range(len(text)):\n",
    "        for n in dictionary_of_words.keys():\n",
    "            if dictionary_of_words[n] == (dictionary_of_words[key_stream[i]]+dictionary_of_words[text[i]])%26 :\n",
    "                code+= n\n",
    "        \n",
    "    return code"
   ]
  },
  {
   "cell_type": "markdown",
   "id": "5fee5f36-e9f0-4a2c-9c9f-e947f094fba0",
   "metadata": {},
   "source": [
    "____"
   ]
  },
  {
   "cell_type": "markdown",
   "id": "73d1d8e4-4c3d-46f4-937e-760b6d0e2cb3",
   "metadata": {},
   "source": [
    "# vigenere cipher"
   ]
  },
  {
   "cell_type": "code",
   "execution_count": 15,
   "id": "dba33cd3-77c9-4d4c-bd4f-0ea64700420b",
   "metadata": {},
   "outputs": [],
   "source": [
    "def encode_vigenere(text,key,keystream=None):\n",
    "    code=\"\"\n",
    "    \n",
    "    if keystream:\n",
    "        text = text.replace(\" \",\"\")\n",
    "        for i,j in enumerate(text):\n",
    "                for n in dictionary_of_words.keys():\n",
    "                    if dictionary_of_words[n] == (dictionary_of_words[j]+keystream[i])%26:\n",
    "                        code+=n\n",
    "                \n",
    "    else:\n",
    "        textkey = (key*len(text))[:len(text)]\n",
    "        for v in text.split():\n",
    "            for i,j in enumerate(v):\n",
    "                for n in dictionary_of_words.keys():\n",
    "                    if dictionary_of_words[n] == (dictionary_of_words[j]+dictionary_of_words[textkey[i]])%26:\n",
    "                        code+=n\n",
    "\n",
    "    return code"
   ]
  },
  {
   "cell_type": "markdown",
   "id": "942175b4-2e04-46a1-b4bd-04bacf3e6893",
   "metadata": {},
   "source": [
    "_______"
   ]
  },
  {
   "cell_type": "markdown",
   "id": "a8691805-fb64-409e-8e99-1ac67abca519",
   "metadata": {},
   "source": [
    "# Reversed cipher"
   ]
  },
  {
   "cell_type": "code",
   "execution_count": 16,
   "id": "c0d7a7f1-466c-48f7-aadc-30c7f0f195fb",
   "metadata": {},
   "outputs": [],
   "source": [
    "def encode_and_decode_reversed(text):\n",
    "    return text[::-1]"
   ]
  },
  {
   "cell_type": "markdown",
   "id": "62e8cdf2-6974-4fd3-bfe1-5158a1c4f97e",
   "metadata": {},
   "source": [
    "_______"
   ]
  },
  {
   "cell_type": "markdown",
   "id": "5c92b23c-0597-4181-b3eb-e653e89f6bf2",
   "metadata": {},
   "source": [
    "# Keyless transition cipher"
   ]
  },
  {
   "cell_type": "code",
   "execution_count": 17,
   "id": "fbed0bc2-421f-4e45-a95f-40723ae0ae7e",
   "metadata": {},
   "outputs": [],
   "source": [
    "def encode_keyless_transition(text,place=5):\n",
    "    n = 0\n",
    "    lis = []\n",
    "    text=text.replace(\" \",\"\")\n",
    "    code = \"\"\n",
    "    for i in range(place,len(text),place):\n",
    "        lis.append(text[n:i])\n",
    "        n=i    \n",
    "        \n",
    "    lis.append(text[i:]+((place - len(text[i:]))*\" \"))\n",
    "    for j in range(place):\n",
    "        for l in lis:\n",
    "            code+=l[j]\n",
    "            \n",
    "    return code.replace(\" \",\"\"),lis"
   ]
  },
  {
   "cell_type": "markdown",
   "id": "564b832f-82e2-4538-9d6f-bda8caa4bd58",
   "metadata": {},
   "source": [
    "_______"
   ]
  },
  {
   "cell_type": "markdown",
   "id": "d7024deb-ed0d-4360-826c-4e7c3b82c5a6",
   "metadata": {},
   "source": [
    "# keyed transposition cipher"
   ]
  },
  {
   "cell_type": "code",
   "execution_count": 18,
   "id": "7e436a65-4551-473d-bfac-cefda9aa01c9",
   "metadata": {},
   "outputs": [],
   "source": [
    "def encode_keyed_transposition(text,key=dict):\n",
    "    place = max(key.keys())\n",
    "    n = 0\n",
    "    lis = []\n",
    "    text=text.replace(\" \",\"\")\n",
    "    code = \"\"\n",
    "    \n",
    "    for i in range(place,len(text),place):\n",
    "        lis.append(text[n:i])\n",
    "        n=i    \n",
    "        \n",
    "    lis.append(text[i:]+((place - len(text[i:]))*\" \"))\n",
    "        \n",
    "    for j in lis:\n",
    "        for l in key.keys():\n",
    "            for i in range(1,place+1):\n",
    "                if key[l] == i:\n",
    "                    code+=j[l-1]\n",
    "        code+= \"-\"\n",
    "    \n",
    "    code = code.replace(\" \",\"\")\n",
    "    lis = code.split(\"-\")\n",
    "    lis.pop(-1)\n",
    "    \n",
    "    for alph in dictionary_for_reverse.values():\n",
    "        if len(lis[-1])<place:\n",
    "            lis[-1]=lis[-1][:-1]+alph+lis[-1][-1]\n",
    "            \n",
    "        else:\n",
    "            break\n",
    "            \n",
    "    code = \"\".join(lis)\n",
    "        \n",
    "    return code,lis"
   ]
  },
  {
   "cell_type": "markdown",
   "id": "53aff18b-00bf-4c62-a641-bbf4875c756c",
   "metadata": {},
   "source": [
    "________"
   ]
  },
  {
   "cell_type": "markdown",
   "id": "695a53e6-3c7a-4ffb-99fe-fd49a3776986",
   "metadata": {},
   "source": [
    "# substitution / transposition cipher"
   ]
  },
  {
   "cell_type": "code",
   "execution_count": 19,
   "id": "11924480-28f5-4390-a1e0-41b575ab11a8",
   "metadata": {},
   "outputs": [],
   "source": [
    "def subs_trans_encode(text):\n",
    "    row = {0:\"A\",1:\"B\",2:\"C\",3:\"D\",4:\"E\"}\n",
    "    code =\"\"\n",
    "    for i in text:\n",
    "        for j in do.keys():\n",
    "            if i in do[j]:\n",
    "                code+=row[do[j].index(i)]+j\n",
    "                \n",
    "    code1 = code[:len(code)//2]\n",
    "    code2 = code[len(code)//2:]\n",
    "    \n",
    "    step1 =\"\"\n",
    "    for i in range(len(code1)):\n",
    "        step1+=code1[i]+code2[i]\n",
    "        step1+=\" \"\n",
    "    \n",
    "    step2=step1[:-1].split()\n",
    "    \n",
    "    code=\"\"\n",
    "    for i in step2:\n",
    "        code+=do_df.loc[i[0],i[1]]\n",
    "    \n",
    "    return code,step1[:-1]"
   ]
  },
  {
   "cell_type": "markdown",
   "id": "ba55d2c7-4910-4cb7-8628-c50683437aef",
   "metadata": {},
   "source": [
    "________"
   ]
  },
  {
   "cell_type": "markdown",
   "id": "5b3dc141-b67b-42eb-9811-6d28b01b85a3",
   "metadata": {},
   "source": [
    "# Playfair Cipher "
   ]
  },
  {
   "cell_type": "code",
   "execution_count": 81,
   "id": "50574868-d69f-4fb7-a60f-01f1610514b1",
   "metadata": {},
   "outputs": [],
   "source": [
    "def encode_playfair(text,key,show=False):\n",
    "    text1=\"  \"\n",
    "    text=text.replace(\" \",\"\")\n",
    "    key1=\"\"\n",
    "    code=\"\"\n",
    "    n=0\n",
    "    lis=[]\n",
    "    \n",
    "    # key operation\n",
    "    for i in key:\n",
    "        if i not in key1:\n",
    "            key1+=i+\" \"\n",
    "            \n",
    "    for i in dictionary_of_words.keys():\n",
    "        if i != \"j\":\n",
    "            if i not in key1:\n",
    "                key1+=i+\" \"\n",
    "                \n",
    "\n",
    "    key1= key1.split()            \n",
    "\n",
    "    for i in range(5,len(key1)+1,5):\n",
    "            lis.append(key1[n:i])\n",
    "            n=i \n",
    "\n",
    "    df_key = pd.DataFrame(lis)\n",
    "    \n",
    "    # text operation\n",
    "    n=0\n",
    "    for i in text:\n",
    "        if n<2:\n",
    "            if i == text1[-1]:\n",
    "                text1+=\"x \"+i\n",
    "            else:\n",
    "                text1+=i\n",
    "                n+=1\n",
    "        elif n==2:\n",
    "            n=1\n",
    "            text1+=\" \"+i\n",
    "\n",
    "    text1=text1.split()\n",
    "\n",
    "    if len(text1[-1]) <2:\n",
    "        text1[-1]=text1[-1]+\"x\"\n",
    "        \n",
    "    # encryption process\n",
    "    for i in text1:\n",
    "        x1,y1 = [(x, df_key.columns[y]) for x, y in zip(*np.where(df_key.values == i[0]))][0]\n",
    "        x2,y2 = [(x, df_key.columns[y]) for x, y in zip(*np.where(df_key.values == i[1]))][0]\n",
    "        \n",
    "        print(f\"({x1},{y1}) for {i[0]} and ({x2},{y2}) for {i[1]}\")\n",
    "        \n",
    "        if x1 == x2:\n",
    "            if y1<y2:\n",
    "                code+=df_key.iloc[x1,y1+1]+df_key.iloc[x2,y2+1]\n",
    "                code+=\" \"\n",
    "\n",
    "        elif y1==y2:\n",
    "            if x1<x2:\n",
    "                code+=df_key.iloc[x1+1,y1]+df_key.iloc[x2+1,y2]\n",
    "                code+=\" \"\n",
    "\n",
    "        elif (y1!=y2) & (x1!=x2):\n",
    "            code+=df_key.iloc[x1,y2]+df_key.iloc[x2,y1]\n",
    "            code+=\" \"\n",
    "            \n",
    "    return code.replace(\" \",\"\"),df_key"
   ]
  },
  {
   "cell_type": "markdown",
   "id": "6b062ea5-ffb0-4812-8518-e5ff897a3210",
   "metadata": {},
   "source": [
    "________"
   ]
  },
  {
   "cell_type": "markdown",
   "id": "64bde9e9-6a16-4617-9f78-2d0601c0218d",
   "metadata": {},
   "source": [
    "# Hill cipher"
   ]
  },
  {
   "cell_type": "code",
   "execution_count": 21,
   "id": "01c2d551-6d91-4cbb-93b3-5b90a76fa79a",
   "metadata": {},
   "outputs": [],
   "source": [
    "def encode_hill(text,key,show=False):\n",
    "    chose =[]\n",
    "    chose2 =[]\n",
    "    lis=[]\n",
    "    lis2=[]\n",
    "    text_mat =[]\n",
    "    key_mat =[]\n",
    "    key= key.replace(\" \",\"\")\n",
    "    text = text.replace(\" \",\"\")\n",
    "    code=\"\"\n",
    "\n",
    "    #run test for the key splits\n",
    "    for i in [3,4,5,6,7]:\n",
    "        n=0\n",
    "        for j in range(i,len(key)+1,i):\n",
    "            lis.append(key[n:j])\n",
    "            n=j\n",
    "\n",
    "        try:\n",
    "            if lis[-1]==key[-i:]:\n",
    "                chose.append(i)\n",
    "        except:\n",
    "            continue\n",
    "        lis=[]\n",
    "\n",
    "    # chose from the key test\n",
    "    n = 0\n",
    "    for j in range(min(chose),len(key)+1,min(chose)):\n",
    "            lis.append(key[n:j])\n",
    "            n=j\n",
    "\n",
    "    # change key to matrix\n",
    "    for i in lis :\n",
    "            key_mat1 = []\n",
    "            for j in i :\n",
    "                key_mat1.append(dictionary_of_words[j])\n",
    "            key_mat.append(key_mat1)\n",
    "\n",
    "#-------------------------------------------------------------------------------------\n",
    "\n",
    "    # text test split\n",
    "    for i in [3,4,5,6,7,8]:\n",
    "        n=0\n",
    "        for k in range(i,len(text)+1,i):\n",
    "            lis2.append(text[n:k])\n",
    "            n=k\n",
    "\n",
    "            if (len(lis2) == chose[0]) & (lis2[-1]==text[-i:]):\n",
    "                chose2.append(len(lis2[0]))\n",
    "            \n",
    "            elif (len(lis2)==1) & (len(lis2[-1]) == chose[0]) & (lis2[-1]==text[-i:]):\n",
    "                chose2.append(len(lis2[0]))\n",
    "\n",
    "        lis2=[]\n",
    "\n",
    "\n",
    "    n=0\n",
    "    for j in range(chose2[0],len(text)+1,chose2[0]):\n",
    "            lis2.append(text[n:j])\n",
    "            n=j\n",
    "\n",
    "    # text matrix\n",
    "    for i in lis2 :\n",
    "        text_mat1 = []\n",
    "        for j in i :\n",
    "            text_mat1.append(dictionary_of_words[j])\n",
    "        text_mat.append(text_mat1)\n",
    "\n",
    "#---------------------------------------------------\n",
    "    # change to array\n",
    "    key_mat = np.array(key_mat) \n",
    "    text_mat = np.array(text_mat)\n",
    "\n",
    "    try:\n",
    "        encrypted_mat = np.matmul(key_mat,text_mat)%26\n",
    "    except:\n",
    "        encrypted_mat = np.matmul(key_mat,text_mat.T)%26\n",
    "\n",
    "    encrypted_mat = encrypted_mat.tolist()\n",
    "\n",
    "    for i in encrypted_mat:\n",
    "        for j in i:\n",
    "            for di in dictionary_of_words.keys():\n",
    "                if dictionary_of_words[di] == j:\n",
    "                    code+=di\n",
    "    if show:\n",
    "        print(f\"{key_mat}\\n\")\n",
    "        print(\"x\\n\")\n",
    "        print(f\"{text_mat}\\n\")\n",
    "        print(\"=\\n\")\n",
    "        print(f\"{np.array(encrypted_mat)}\\n\")\n",
    "    \n",
    "    return code "
   ]
  },
  {
   "cell_type": "markdown",
   "id": "8fe9f653-2d2f-485c-9492-aedb25941d03",
   "metadata": {},
   "source": [
    "________"
   ]
  },
  {
   "cell_type": "markdown",
   "id": "00760fa3-662b-47f1-ab9d-61e14487ae6d",
   "metadata": {},
   "source": [
    "# Row transition cipher"
   ]
  },
  {
   "cell_type": "code",
   "execution_count": 22,
   "id": "7c49ca4f-8833-4394-a015-3b9ee40f29e3",
   "metadata": {},
   "outputs": [],
   "source": [
    "def encode_row_transition(text,key):\n",
    "    place = max(key)\n",
    "    text=text.replace(\" \",\"\")\n",
    "    lis=[]\n",
    "    mat=[]\n",
    "    code = \"\"\n",
    "\n",
    "    n=0    \n",
    "    for i in text:\n",
    "        lis.append(i)\n",
    "        n+=1\n",
    "        if n == place:\n",
    "            mat.append(lis)\n",
    "            lis=[]\n",
    "            n=0\n",
    "\n",
    "    mat.append(lis)\n",
    "\n",
    "    if len(mat[-1])<place:\n",
    "        for i in range(abs(place - len(mat[-1]))):\n",
    "            mat[-1].append(\" \")\n",
    "\n",
    "    row_df = pd.DataFrame(np.array(mat),columns=key)\n",
    "\n",
    "    for i in range(1,max(key)+1):\n",
    "         code+=\"\".join(row_df[i].values)\n",
    "    \n",
    "    print(row_df,\"\\n\")\n",
    "    return code.replace(\" \",\"\")"
   ]
  },
  {
   "cell_type": "markdown",
   "id": "56a9e308-4853-4787-8b83-7e52d75eaeb4",
   "metadata": {},
   "source": [
    "________"
   ]
  },
  {
   "cell_type": "code",
   "execution_count": 23,
   "id": "b79dc731-1e4a-4868-959d-920e0570545a",
   "metadata": {},
   "outputs": [
    {
     "name": "stdout",
     "output_type": "stream",
     "text": [
      "⠀⠀⠀⠀⠀⠀⠀⠀⠀⠀⠀⠀⠀⠀⠀⠀⠀⠀⠀⠀⠀⠀⠀⠀⠀⠀⠀⠀⠀⠀⠀⠀⠀⣠⣤⣴⠾⢷⣶⠦⣤⣤⣀⠀⡀⠀⠀⠀⠀⠀⠀⠀⠀⠀⠀⠀⠀⠀⠀⠀⠀⠀⠀⠀⠀⠀⠀⠀⠀⠀⠀⠀⠀⠀⠀⠀⠀⠀\n",
      "⠀⠀⠀⠀⠀⠀⠀⠀⠀⠀⠀⠀⠀⠀⠀⠀⠀⠀⠀⠀⠀⠀⠀⠀⠀⠀⠀⠀⠀⢀⡤⢚⣿⣿⣿⣾⣶⣶⣬⡙⢶⣍⠑⢌⠓⢦⣂⠀⣀⠀⠀⠀⠀⠀⠀⠀⠀⠀⠀⠀⠀⠀⠀⠀⠀⠀⠀⠀⠀⠀⠀⠀⠀⠀⠀⠀⠀⠀\n",
      "⠀⠀⠀⠀⠀⠀⠀⠀⠀⠀⠀⠀⠀⠀⠀⠀⠀⠀⠀⠀⠀⠀⠀⠀⠀⠀⠀⢀⣔⣣⣤⣾⠿⠛⠛⠉⠛⠻⠿⣿⣆⠑⠄⠀⠑⠀⠳⡑⠢⡀⠂⢄⠀⠀⠀⠀⠀⠀⠀⠀⠀⠀⠀⠀⠀⠀⠀⠀⠀⠀⠀⠀⠀⠀⠀⠀⠀⠀\n",
      "⠀⠀⠀⠀⠀⠀⠀⠀⠀⠀⠀⠀⠀⠀⠀⠀⠀⠀⠀⠀⠀⠀⠀⠀⠀⠀⣴⣿⣿⠟⠉⠀⠀⠀⠀⠀⠀⠀⠀⠀⠈⠆⠈⢆⠀⠀⠀⠘⠄⠘⢤⠀⠐⢄⠀⠀⠀⠀⠀⠀⠀⠀⠀⠀⠀⠀⠀⠀⠀⠀⠀⠀⠀⠀⠀⠀⠀⠀\n",
      "⠀⠀⠀⠀⠀⠀⠀⠀⠀⠀⠀⠀⠀⠀⠀⠀⠀⠀⠀⠀⠀⠀⠀⠀⠀⡘⢳⣿⠃⠀⠀⠀⠀⠀⠀⠀⠀⠀⠀⠀⠀⠘⠀⠀⠆⠀⠀⠐⠈⢀⠀⢂⠀⠢⡑⠄⠀⠀⠀⠀⠀⠀⠀⠀⠀⠀⠀⠀⠀⠀⠀⠀⠀⠀⠀⠀⠀⠀\n",
      "⠀⠀⠀⠀⠀⠀⠀⠀⠀⠀⠀⠀⠀⠀⠀⠀⠀⠀⠀⠀⠀⠀⠀⠀⢠⠁⣿⠃⠀⠀⠀⠀⠀⠀⠀⠀⠀⠀⠀⠀⠀⠀⢠⠀⠀⡐⠀⠀⠐⠀⠀⠀⠂⠀⠻⡄⢂⠀⠀⠀⠀⠀⠀⠀⠀⠀⠀⠀⠀⠀⠀⠀⠀⠀⠀⠀⠀⠀\n",
      "⠀⠀⠀⠀⠀⠀⠀⠀⠀⠀⠀⠀⠀⠀⠀⠀⠀⠀⠀⠀⠀⠀⠀⠀⡘⠀⠇⠀⠀⠀⠀⠀⠀⠀⠀⠀⠀⠀⠀⠀⠀⠀⠀⠄⠀⠀⡀⠀⡀⢡⡀⠀⠀⠱⣄⢙⡼⡆⠀⠀⠀⠀⠀⠀⠀⠀⠀⠀⠀⠀⠀⠀⠀⠀⠀⠀⠀⠀\n",
      "⠀⠀⠀⠀⠀⠀⠀⠀⠀⠀⠀⠀⠀⠀⠀⠀⠀⠀⠀⠀⠀⠀⠀⢠⠀⢸⣤⣤⣀⠀⠀⠀⠀⠀⠀⠀⣠⣤⣶⡶⠶⠶⠤⢤⠀⠄⠡⠀⢳⢸⠳⡀⠀⢄⠘⢧⣳⣵⠀⠀⠀⠀⠀⠀⠀⠀⠀⠀⠀It is me Kim⠀⠀⠀⠀⠀⠀⠀⠀⠀\n",
      "⠀⠀⠀⠀⠀⠀⠀⠀⠀⠀⠀⠀⠀⠀⠀⠀⠀⠀⠀⠀⠀⠀⢀⢿⠀⡟⠀⢉⠿⠿⣿⣄⠀⠀⠀⣨⣽⠵⢒⠀⠤⣄⡀⠀⢡⠀⠀⠐⠈⣧⠁⢹⢦⠀⡒⣄⢻⣫⠇⠀⠀⠀⠀⠀⠀⠀⠀⠀    Hope you are Doing great\n",
      "⠀⠀⠀⠀⠀⠀⠀⠀⠀⠀⠀⠀⠀⠀⠀⠀⠀⠀⠀⠀⠀⠀⣾⣾⠀⣷⣿⣯⣶⣶⣽⠙⠀⠀⠀⠉⠀⢠⡞⣿⣿⣿⣿⣦⡜⢳⡄⢠⠘⣽⡆⠈⠈⢻⣵⡄⢣⡏⢺⠀⠀⠀⠀⠀⠀⠀⠀⠀⠀⠀\n",
      "⠀⠀⠀⠀⠀⠀⠀⠀⠀⠀⠀⠀⠀⠀⠀⠀⠀⠀⠀⠀⠀⣰⣿⠏⠀⣹⠿⡿⠽⠿⠋⠁⠀⠀⠀⠀⠀⠉⠐⠚⠛⠋⠋⠁⠀⠈⢷⡀⠐⠜⡗⠀⡆⡈⣷⣣⡜⠀⢿⠀⠀⠀⠀⠀⠀⠀⠀ \n",
      "⠀⠀⠀⠀⠀⠀⠀⠀⠀⠀⠀⠀⠀⠀⠀⠀⠀⠀⠀⠀⠀⣽⡏⠂⢴⡿⠀⠀⠀⠀⠀⠀⠀⠀⡀⠀⠀⠀⠀⠀⠀⠀⠀⠀⠀⠀⠀⣇⠰⡉⠷⠀⠘⠀⢹⡇⣧⠀⡎⡆⠀⠀⠀⠀⠀⠀⠀⠀⠀⠀\n",
      "⠀⠀⠀⠀⠀⠀⠀⠀⠀⠀⠀⠀⠀⠀⠀⠀⠀⠀⠀⠀⢈⡟⢀⣾⣿⠃⠀⠀⠀⢀⣄⠀⡤⠀⠀⠐⠀⠀⠀⠀⠀⠀⠀⠀⠀⠀⠀⢸⠰⡸⡄⠀⠀⢃⠀⠳⢾⠸⡴⢻⡄⠀⠀⠀⠀⠀⠀⠀⠀⠀⠀⠀⠀\n",
      "⠀⠀⠀⠀⠀⠀⠀⠀⠀⠀⠀⠀⠀⠀⠀⠀⠀⠀⠀⠀⡺⣲⣿⣿⣿⡀⠀⠀⠀⠀⢻⣿⢿⠿⠛⠳⠃⠀⠀⠀⠀⠀⠀⠀⠀⠀⠀⡏⠀⠇⢹⡀⠀⠀⠀⠀⢸⢁⠐⠌⢇⠀⠀⠀⠀⠀⠀⠀⠀⠀⠀⠀⠀⠀\n",
      "⠀⠀⠀⠀⠀⠀⠀⠀⠀⠀⠀⠀⠀⠀⠀⠀⠀⠀⠀⢰⣿⣿⣿⢹⣿⡇⠀⠀⠀⠀⠀⠀⠀⠀⠀⠀⠀⠀⠀⠀⠀⠀⠀⠀⠀⠀⠀⡃⠀⢸⠀⡎⡄⠀⠈⠀⣼⡆⠆⠀⠈⢀⠀⠀⠀⠀⠀⠀⠀⠀⠀⠀⠀⠀⠀ ⠀\n",
      "⠀⠀⠀⠀⠀⠀⠀⠀⠀⠀⠀⠀⠀⠀⠀⠀⠀⠀⠀⠘⣏⠿⠛⡆⣿⢿⡀⠀⢀⣀⣴⡶⣶⠾⣴⣦⣄⣀⣀⠀⠀⠀⠀⠀⠀⠀⠀⠁⢀⢀⠀⢡⠀⡀⠀⠘⠏⣷⡄⠂⡂⠐⣄⠀⠀⠀⠀⠀⠀⠀⠀⠀⠀⠀⠀⠀⠀⠀\n",
      "⠀⠀⠀⠀⠀⠀⠀⠀⠀⠀⠀⠀⠀⠀⠀⠀⠀⠀⠀⠀⠈⢄⡇⢣⢳⢸⣇⠀⠈⠉⠗⠦⣄⣠⠔⠀⠈⠁⠀⠀⠀⠀⠀⠀⠀⠀⡘⠀⠈⣾⡀⢸⡇⣄⠀⠀⠐⠽⣧⣀⣈⢢⡈⢆⠀⠀⠀⠀⠀⠀⠀⠀⠀⠀⠀⠀⠀⠀\n",
      "⠀⠀⠀⠀⠀⠀⠀⠀⠀⠀⠀⠀⠀⠀⠀⠀⠀⠀⠀⠀⠀⠀⠀⣸⠘⢅⠻⡄⠀⠀⠀⠀⠀⠀⠀⠀⠀⠀⠀⠀⠀⠀⠀⠀⠀⣰⢎⠀⢡⣿⣇⠈⢧⢸⣿⡄⠀⠸⣾⣷⡪⡑⣷⠈⣆⠀⠀⠀⠀⠀⠀⠀⠀⠀⠀⠀⠀⠀\n",
      "⠀⠀⠀⠀⠀⠀⠀⠀⠀⠀⠀⠀⠀⠀⠀⠀⠀⠀⠀⠀⠀⠀⢠⡟⠀⣠⢷⢿⣆⠀⠀⠀⠀⠀⠀⠀⠀⠀⠀⠀⠀⢀⣠⣤⣷⣿⢸⣧⠀⠹⡻⠣⡀⢸⢸⡟⣆⡀⢹⣟⢧⠙⣼⣻⢸⠄⠀⠀⠀⠀⠀⠀⠀⠀⠀⠀⠀⠀\n",
      "⠀⠀⠀⠀⠀⠀⠀⠀⠀⠀⠀⠀⠀⠀⠀⠀⠀⠀⠀⠀⢀⠔⠋⠠⡚⣋⡿⣾⣿⣿⣤⣄⣀⣀⣀⣠⣀⣤⣤⣶⣾⣿⣿⢿⡿⢻⢎⢻⢷⣄⠈⠲⠀⣢⠉⠃⣼⡶⣼⠈⡸⠀⣿⠁⠂⠀⠀⠀⠀⠀⠀⠀⠀⠀⠀⠀⠀⠀\n",
      "⠀⠀⠀⠀⠀⠀⠀⠀⠀⠀⠀⠀⠀⠀⠀⠀⢀⠔⣂⠔⡁⠀⠀⣠⣔⡟⢡⠿⢹⣿⣿⣿⢿⣿⣿⣿⣿⡿⢿⢛⠻⠙⠌⠃⠀⠁⠈⠢⡹⣿⣇⠀⢠⠏⠀⢰⢪⡵⣽⣖⠁⢸⡏⠈⠀⠀⠀⠀⠀⠀⠀⠀⠀⠀⠀⠀⠀⠀\n",
      "⠀⠀⠀⠀⠀⠀⠀⠀⠀⠀⠀⠀⠀⠀⠀⠀⠁⣜⠔⠊⠀⣠⠾⠎⣱⠁⠈⠀⡌⣏⣿⣧⠉⠙⢟⡛⠏⠻⠄⠀⠀⠀⠀⠀⠀⠀⠀⠀⣽⣾⡏⠀⣏⠀⠀⣆⡟⢸⡟⢌⡶⠀⠀⠀⠀⠀⠀⠀⠀⠀⠀⠀⠀⠀⠀⠀⠀⠀\n",
      "⠀⠀⠀⠀⠀⠀⠀⠀⠀⠀⠀⠀⠀⠀⠀⠀⢰⡇⠀⠀⢸⠛⣱⡼⡽⣼⡀⢰⠇⣸⡿⡇⠀⠀⠀⠀⠀⠀⠀⠀⠀⠀⠀⠀⠀⠀⠀⠀⣘⣿⡇⠘⢳⡀⠈⢿⠇⠜⡄⢂⠡⢰⡆⠀⠀⠀⠀⠀⠀⠀⠀⠀⠀⠀⠀⠀⠀⠀\n",
      "⠀⠀⠀⠀⠀⠀⠀⠀⠀⠀⠀⠀⠀⠀⠀⠀⠈⡃⠀⠀⠁⢀⢽⣴⣻⣿⣤⢿⢀⡿⠏⠀⠀⠀⠀⠀⠀⠀⠀⠀⠀⠀⠀⠀⠀⠀⡀⠪⢔⣻⣷⡈⠀⠣⠀⠈⠿⢸⢳⡨⡦⡌⢻⠀⠀⠀⠀⠀⠀⠀⠀⠀⠀⠀⠀⠀⠀⠀\n",
      "⠀⠀⠀⠀⠀⠀⠀⠀⠀⠀⠀⠀⠀⠀⠀⠀⠀⠈⠀⣀⡀⣼⡙⢯⠧⠙⠞⢛⡟⠀⠀⡄⠀⠀⠀⠀⠀⠀⠀⠀⠀⠀⠀⠀⠀⠐⣀⣴⣿⣿⣿⠏⣆⠀⠡⢀⠀⠸⢿⡕⢰⣿⡶⠄⠀⠀⠀⠀⠀⠀⠀⠀⠀⠀⠀⠀⠀⠀\n",
      "⠀⠀⠀⠀⠀⠀⠀⠀⠀⠀⠀⠀⠀⠀⣀⣤⣤⣶⣞⣿⡿⠟⣡⠎⣠⢀⠐⠠⢀⠀⢀⡧⠀⠀⠀⠀⠀⠀⠀⠀⠀⠀⠀⠀⡠⡜⢁⡾⢻⣿⠏⠐⣟⣆⠀⢣⠳⣤⡌⢀⡾⢾⣁⠀⠀⠄⠀⠀⠀⠀⠀⠀⠀⠀⠀⠀⠀⠀\n",
      "⠀⠀⠀⠀⠀⠀⠀⠀⣀⣤⣾⣿⣿⣿⣿⣿⣷⣿⡟⠁⡐⢈⣿⢶⠏⣿⠀⣇⠀⢲⠟⠃⠱⠀⠀⠀⠀⠀⠀⠀⠀⠀⠀⠀⠀⠀⣸⠁⡻⠃⠀⠠⠟⣿⠦⠘⡿⠀⢹⣮⣟⡦⣶⢷⣤⣤⣤⣀⠀⠀⠀⠀⠀⠀⠀⠀⠀⠀\n",
      "⠀⠀⠀⠀⠀⢠⣴⣿⣿⣿⣿⣿⣿⣿⣿⣿⣿⡟⠀⣰⣟⠿⢡⣋⣾⡟⢠⠁⢧⠸⡂⠀⠀⠀⠀⠀⠀⠀⠀⠀⠀⠀⠀⠉⠀⠀⢃⠔⠁⡀⠀⠀⢮⠟⠃⠅⣇⠂⣼⠿⢋⣿⣿⣿⣿⣿⣿⣿⣷⣦⣄⡀⠀⠀⠀⠀⠀⠀\n",
      "⠀⠀⠀⠀⣴⣿⣿⣿⣿⣿⣿⣿⣾⣿⣿⣽⣿⣇⠀⡏⠡⠀⢸⣯⠟⣡⠊⠇⣏⠑⣿⣶⣄⡀⠀⠀⠀⠀⠀⠀⠀⠀⠀⠀⠀⡤⠈⡼⠰⠀⠁⣰⠏⠀⠀⡸⠁⡰⢋⣶⣿⣿⣿⣿⣟⣿⣺⣿⣿⣿⣿⣿⣦⡀⠀⠀⠀⠀\n",
      "⠀⠀⠀⣸⣿⣿⣿⣿⣿⣿⣿⣿⣾⣿⣿⣿⣿⣿⣄⠛⢠⡅⠋⣤⣾⣿⣧⢀⣯⠷⡤⡈⢻⣿⣿⣶⣶⣶⣶⣶⣶⣶⣾⣿⣧⣌⢸⢁⠀⠀⠀⢁⡀⠀⢔⠀⡔⠠⣿⣿⣿⣿⣟⣿⣗⣿⣖⣿⣿⣿⣿⣿⣿⣷⡀⠀⠀⠀\n",
      "⠀⠀⢀⣿⣿⣿⣿⣿⣿⣿⣿⣿⣿⣿⣿⣿⣿⣿⣿⡇⣸⡇⠄⢻⡿⣋⣵⢪⣏⠀⠹⡵⡄⢻⣿⣿⣿⣿⣿⣿⣿⣿⣿⣿⣷⣿⠀⣸⡄⠀⡪⠈⡄⢁⡎⢰⡇⠀⣿⣿⣿⣿⣿⣿⣿⣿⣿⣿⣿⣿⣿⣿⣿⣿⣧⠀⠀⠀\n",
      "⠀⠀⢸⣿⣿⣿⣿⣿⣿⣿⣿⣿⣿⣿⣿⣿⣿⣿⣿⣿⢠⣼⣿⡜⣿⣿⣇⢠⣿⡄⠀⢻⣿⠘⣿⣿⣿⣿⣿⣿⣿⣿⣿⣿⣧⣿⡀⡛⣸⠀⠇⠘⢧⢀⠀⣧⢻⡀⠘⢿⣿⣿⣿⣿⣿⣿⣿⣿⣿⣿⣿⣿⣿⣿⣿⡀⠀⠀\n",
      "⠀⠀⣿⣿⣿⣿⣿⣿⣿⣿⣿⣿⣿⣿⣿⣿⣿⣿⢯⣵⣿⣿⣾⡿⣽⡿⡇⢸⣿⣿⠀⢨⣿⠀⣿⣿⣿⣿⣿⣿⣿⣿⣷⣿⣺⣿⠂⠁⣿⠆⢡⢲⢌⣞⠷⡾⡙⠢⠀⠐⣾⣿⣿⣿⣿⣿⣿⣿⣿⣿⣿⣿⣿⣿⣿⣇⠀⠀\n",
      "⠀⢰⣿⣿⣿⣿⣿⣿⣿⣿⣿⣿⣿⣿⣿⣿⣿⣿⣿⣿⣿⣿⣿⡯⣿⡯⡇⣿⣿⠽⢠⣿⡿⣿⣿⣿⣿⣿⣿⣿⣿⣿⢽⣿⢿⡯⣵⠀⣡⠆⠁⣊⢜⣾⣄⡀⠉⠱⣾⣶⣿⣿⣿⣿⣿⣿⣿⣿⣿⣿⣿⣿⣿⣿⣿⣿⠀⠀\n",
      "⠀⣼⣿⣿⣿⣿⣿⣿⣿⣿⣿⣿⣿⣿⣿⣿⣿⣿⣿⣿⣿⣿⣿⣿⣿⣿⣿⣿⡿⣡⣾⣿⣯⣿⣯⣿⣿⣿⢿⣿⣿⣿⣿⣿⣿⣯⣿⡯⠃⣠⡶⣣⣾⣿⣿⣷⣮⣴⣾⣿⣿⣿⣿⣿⣿⣿⣿⣿⣿⣿⣿⣿⣿⣿⣿⣿⡆⠀\n",
      "⠀⣿⣿⣿⣿⣿⣿⣿⣿⣿⣿⣿⣿⣿⣿⣿⣿⣿⣿⣿⣿⣿⣿⣿⣿⣿⣿⣫⣾⣿⣿⣿⣿⣿⣿⣿⣿⣿⣿⣿⣿⣿⣿⣟⣿⣗⣏⣠⣾⣻⣷⣻⣿⣿⣿⣿⣿⣿⣿⣿⣿⣿⣿⣿⣿⣿⣿⣿⣿⣿⣿⣿⣿⣿⣿⣿⣇⠀\n",
      "⠀⣿⣿⣿⣿⣿⣿⣿⣿⣿⣿⣿⣿⣿⣿⣿⣿⣿⣿⣿⣿⣿⣿⣿⣿⣿⣿⣿⣿⣿⣿⣿⣿⣿⣿⣿⣿⣿⣾⣿⣿⣿⣿⣷⣿⣷⣿⣿⣿⣻⣿⢿⣿⣿⣿⣿⣿⣿⣿⣿⣿⣿⣿⣿⣿⣿⣿⣿⣿⣿⣿⣿⣿⣿⣿⣿⣿⠀\n",
      "⢰⣿⣿⣿⣿⣿⣿⣿⣿⣿⣿⣿⣿⣿⣿⣿⣿⣿⣿⣿⣿⣿⣿⣿⣿⣿⣿⣿⣿⣿⣷⣿⣿⣿⣿⣿⣿⣿⣾⣿⣿⣿⣿⣿⣿⣿⣿⣿⣿⣿⣿⣿⣿⣿⣿⣿⣿⣿⣿⣿⣿⣿⣿⣿⣿⣿⣿⣿⣿⣿⣿⣿⣿⣿⣿⣿⣿⡆\n",
      "⢸⣿⣿⣿⣿⣿⣿⣿⣿⣿⣿⣿⣿⣿⣿⣿⣿⣿⣿⣿⣿⣿⣿⣿⣿⣿⣿⣿⣿⣿⣿⣿⣿⣿⣿⣿⣿⣿⣿⣿⣿⣿⣿⣿⣿⣿⣿⣿⣿⣿⣿⣿⣿⣿⣿⣿⣿⣿⣿⣿⣿⣿⣿⣿⣿⣿⣿⣿⣿⣿⣿⣿⣿⣿⣿⣿⣿⠁\n",
      "⢺⠿⢿⣿⣿⣿⣿⣿⣿⣿⣿⣿⣿⣿⣿⣿⣿⣿⣿⣿⣿⣿⣿⣿⣿⣿⣿⣿⣿⣿⣿⣿⣿⣿⣿⣿⣿⣿⣿⣿⣿⣿⣿⣿⣿⣿⣿⣿⣿⣿⣿⣿⣿⣿⣿⣿⣿⣿⣿⣿⣿⣿⣿⣿⣿⣿⣿⣿⣿⣿⣿⣿⣿⣿⣿⣿⣿⠀\n",
      "⢸⠀⠀⠀⠀⠉⠙⠛⠻⠿⣿⣿⣿⣿⣿⣿⣿⣿⣿⣿⣿⣿⣿⣿⣿⣿⣿⣿⣿⣿⣿⣿⣿⣿⣿⣿⣿⣿⣿⣿⣿⣿⣿⣿⣿⣿⣿⣿⣿⣿⣿⣿⣿⣿⣿⣿⣿⣿⣿⣿⣿⣿⣿⣿⣿⣿⣿⣿⣿⣿⣿⠿⠿⠿⠟⠟⢻⠀\n",
      "⣰⠀⠀⠀⠀⠀⠀⠀⠀⠀⠀⠀⠉⣹⣿⣿⣿⣿⣿⣿⣿⣿⣿⣿⣿⣿⣿⣿⣿⣿⣿⣿⣿⣿⣿⣿⣿⣿⣿⣿⣿⣿⣿⣿⣿⣿⣿⣿⣿⣿⣿⣿⣿⣿⣿⣿⣿⣿⣿⣿⣿⣿⣿⣿⣟⠋⠉⠉⠉⠀⠀⠀⠀⠀⠀⠀⢸⠀\n"
     ]
    }
   ],
   "source": [
    "print(\"\"\"⠀⠀⠀⠀⠀⠀⠀⠀⠀⠀⠀⠀⠀⠀⠀⠀⠀⠀⠀⠀⠀⠀⠀⠀⠀⠀⠀⠀⠀⠀⠀⠀⠀⣠⣤⣴⠾⢷⣶⠦⣤⣤⣀⠀⡀⠀⠀⠀⠀⠀⠀⠀⠀⠀⠀⠀⠀⠀⠀⠀⠀⠀⠀⠀⠀⠀⠀⠀⠀⠀⠀⠀⠀⠀⠀⠀⠀⠀\n",
    "⠀⠀⠀⠀⠀⠀⠀⠀⠀⠀⠀⠀⠀⠀⠀⠀⠀⠀⠀⠀⠀⠀⠀⠀⠀⠀⠀⠀⠀⢀⡤⢚⣿⣿⣿⣾⣶⣶⣬⡙⢶⣍⠑⢌⠓⢦⣂⠀⣀⠀⠀⠀⠀⠀⠀⠀⠀⠀⠀⠀⠀⠀⠀⠀⠀⠀⠀⠀⠀⠀⠀⠀⠀⠀⠀⠀⠀⠀\n",
    "⠀⠀⠀⠀⠀⠀⠀⠀⠀⠀⠀⠀⠀⠀⠀⠀⠀⠀⠀⠀⠀⠀⠀⠀⠀⠀⠀⢀⣔⣣⣤⣾⠿⠛⠛⠉⠛⠻⠿⣿⣆⠑⠄⠀⠑⠀⠳⡑⠢⡀⠂⢄⠀⠀⠀⠀⠀⠀⠀⠀⠀⠀⠀⠀⠀⠀⠀⠀⠀⠀⠀⠀⠀⠀⠀⠀⠀⠀\n",
    "⠀⠀⠀⠀⠀⠀⠀⠀⠀⠀⠀⠀⠀⠀⠀⠀⠀⠀⠀⠀⠀⠀⠀⠀⠀⠀⣴⣿⣿⠟⠉⠀⠀⠀⠀⠀⠀⠀⠀⠀⠈⠆⠈⢆⠀⠀⠀⠘⠄⠘⢤⠀⠐⢄⠀⠀⠀⠀⠀⠀⠀⠀⠀⠀⠀⠀⠀⠀⠀⠀⠀⠀⠀⠀⠀⠀⠀⠀\n",
    "⠀⠀⠀⠀⠀⠀⠀⠀⠀⠀⠀⠀⠀⠀⠀⠀⠀⠀⠀⠀⠀⠀⠀⠀⠀⡘⢳⣿⠃⠀⠀⠀⠀⠀⠀⠀⠀⠀⠀⠀⠀⠘⠀⠀⠆⠀⠀⠐⠈⢀⠀⢂⠀⠢⡑⠄⠀⠀⠀⠀⠀⠀⠀⠀⠀⠀⠀⠀⠀⠀⠀⠀⠀⠀⠀⠀⠀⠀\n",
    "⠀⠀⠀⠀⠀⠀⠀⠀⠀⠀⠀⠀⠀⠀⠀⠀⠀⠀⠀⠀⠀⠀⠀⠀⢠⠁⣿⠃⠀⠀⠀⠀⠀⠀⠀⠀⠀⠀⠀⠀⠀⠀⢠⠀⠀⡐⠀⠀⠐⠀⠀⠀⠂⠀⠻⡄⢂⠀⠀⠀⠀⠀⠀⠀⠀⠀⠀⠀⠀⠀⠀⠀⠀⠀⠀⠀⠀⠀\n",
    "⠀⠀⠀⠀⠀⠀⠀⠀⠀⠀⠀⠀⠀⠀⠀⠀⠀⠀⠀⠀⠀⠀⠀⠀⡘⠀⠇⠀⠀⠀⠀⠀⠀⠀⠀⠀⠀⠀⠀⠀⠀⠀⠀⠄⠀⠀⡀⠀⡀⢡⡀⠀⠀⠱⣄⢙⡼⡆⠀⠀⠀⠀⠀⠀⠀⠀⠀⠀⠀⠀⠀⠀⠀⠀⠀⠀⠀⠀\n",
    "⠀⠀⠀⠀⠀⠀⠀⠀⠀⠀⠀⠀⠀⠀⠀⠀⠀⠀⠀⠀⠀⠀⠀⢠⠀⢸⣤⣤⣀⠀⠀⠀⠀⠀⠀⠀⣠⣤⣶⡶⠶⠶⠤⢤⠀⠄⠡⠀⢳⢸⠳⡀⠀⢄⠘⢧⣳⣵⠀⠀⠀⠀⠀⠀⠀⠀⠀⠀⠀It is me Kim⠀⠀⠀⠀⠀⠀⠀⠀⠀\n",
    "⠀⠀⠀⠀⠀⠀⠀⠀⠀⠀⠀⠀⠀⠀⠀⠀⠀⠀⠀⠀⠀⠀⢀⢿⠀⡟⠀⢉⠿⠿⣿⣄⠀⠀⠀⣨⣽⠵⢒⠀⠤⣄⡀⠀⢡⠀⠀⠐⠈⣧⠁⢹⢦⠀⡒⣄⢻⣫⠇⠀⠀⠀⠀⠀⠀⠀⠀⠀    Hope you are Doing great\n",
    "⠀⠀⠀⠀⠀⠀⠀⠀⠀⠀⠀⠀⠀⠀⠀⠀⠀⠀⠀⠀⠀⠀⣾⣾⠀⣷⣿⣯⣶⣶⣽⠙⠀⠀⠀⠉⠀⢠⡞⣿⣿⣿⣿⣦⡜⢳⡄⢠⠘⣽⡆⠈⠈⢻⣵⡄⢣⡏⢺⠀⠀⠀⠀⠀⠀⠀⠀⠀⠀⠀\n",
    "⠀⠀⠀⠀⠀⠀⠀⠀⠀⠀⠀⠀⠀⠀⠀⠀⠀⠀⠀⠀⠀⣰⣿⠏⠀⣹⠿⡿⠽⠿⠋⠁⠀⠀⠀⠀⠀⠉⠐⠚⠛⠋⠋⠁⠀⠈⢷⡀⠐⠜⡗⠀⡆⡈⣷⣣⡜⠀⢿⠀⠀⠀⠀⠀⠀⠀⠀ \n",
    "⠀⠀⠀⠀⠀⠀⠀⠀⠀⠀⠀⠀⠀⠀⠀⠀⠀⠀⠀⠀⠀⣽⡏⠂⢴⡿⠀⠀⠀⠀⠀⠀⠀⠀⡀⠀⠀⠀⠀⠀⠀⠀⠀⠀⠀⠀⠀⣇⠰⡉⠷⠀⠘⠀⢹⡇⣧⠀⡎⡆⠀⠀⠀⠀⠀⠀⠀⠀⠀⠀\n",
    "⠀⠀⠀⠀⠀⠀⠀⠀⠀⠀⠀⠀⠀⠀⠀⠀⠀⠀⠀⠀⢈⡟⢀⣾⣿⠃⠀⠀⠀⢀⣄⠀⡤⠀⠀⠐⠀⠀⠀⠀⠀⠀⠀⠀⠀⠀⠀⢸⠰⡸⡄⠀⠀⢃⠀⠳⢾⠸⡴⢻⡄⠀⠀⠀⠀⠀⠀⠀⠀⠀⠀⠀⠀\n",
    "⠀⠀⠀⠀⠀⠀⠀⠀⠀⠀⠀⠀⠀⠀⠀⠀⠀⠀⠀⠀⡺⣲⣿⣿⣿⡀⠀⠀⠀⠀⢻⣿⢿⠿⠛⠳⠃⠀⠀⠀⠀⠀⠀⠀⠀⠀⠀⡏⠀⠇⢹⡀⠀⠀⠀⠀⢸⢁⠐⠌⢇⠀⠀⠀⠀⠀⠀⠀⠀⠀⠀⠀⠀⠀\n",
    "⠀⠀⠀⠀⠀⠀⠀⠀⠀⠀⠀⠀⠀⠀⠀⠀⠀⠀⠀⢰⣿⣿⣿⢹⣿⡇⠀⠀⠀⠀⠀⠀⠀⠀⠀⠀⠀⠀⠀⠀⠀⠀⠀⠀⠀⠀⠀⡃⠀⢸⠀⡎⡄⠀⠈⠀⣼⡆⠆⠀⠈⢀⠀⠀⠀⠀⠀⠀⠀⠀⠀⠀⠀⠀⠀ ⠀\n",
    "⠀⠀⠀⠀⠀⠀⠀⠀⠀⠀⠀⠀⠀⠀⠀⠀⠀⠀⠀⠘⣏⠿⠛⡆⣿⢿⡀⠀⢀⣀⣴⡶⣶⠾⣴⣦⣄⣀⣀⠀⠀⠀⠀⠀⠀⠀⠀⠁⢀⢀⠀⢡⠀⡀⠀⠘⠏⣷⡄⠂⡂⠐⣄⠀⠀⠀⠀⠀⠀⠀⠀⠀⠀⠀⠀⠀⠀⠀\n",
    "⠀⠀⠀⠀⠀⠀⠀⠀⠀⠀⠀⠀⠀⠀⠀⠀⠀⠀⠀⠀⠈⢄⡇⢣⢳⢸⣇⠀⠈⠉⠗⠦⣄⣠⠔⠀⠈⠁⠀⠀⠀⠀⠀⠀⠀⠀⡘⠀⠈⣾⡀⢸⡇⣄⠀⠀⠐⠽⣧⣀⣈⢢⡈⢆⠀⠀⠀⠀⠀⠀⠀⠀⠀⠀⠀⠀⠀⠀\n",
    "⠀⠀⠀⠀⠀⠀⠀⠀⠀⠀⠀⠀⠀⠀⠀⠀⠀⠀⠀⠀⠀⠀⠀⣸⠘⢅⠻⡄⠀⠀⠀⠀⠀⠀⠀⠀⠀⠀⠀⠀⠀⠀⠀⠀⠀⣰⢎⠀⢡⣿⣇⠈⢧⢸⣿⡄⠀⠸⣾⣷⡪⡑⣷⠈⣆⠀⠀⠀⠀⠀⠀⠀⠀⠀⠀⠀⠀⠀\n",
    "⠀⠀⠀⠀⠀⠀⠀⠀⠀⠀⠀⠀⠀⠀⠀⠀⠀⠀⠀⠀⠀⠀⢠⡟⠀⣠⢷⢿⣆⠀⠀⠀⠀⠀⠀⠀⠀⠀⠀⠀⠀⢀⣠⣤⣷⣿⢸⣧⠀⠹⡻⠣⡀⢸⢸⡟⣆⡀⢹⣟⢧⠙⣼⣻⢸⠄⠀⠀⠀⠀⠀⠀⠀⠀⠀⠀⠀⠀\n",
    "⠀⠀⠀⠀⠀⠀⠀⠀⠀⠀⠀⠀⠀⠀⠀⠀⠀⠀⠀⠀⢀⠔⠋⠠⡚⣋⡿⣾⣿⣿⣤⣄⣀⣀⣀⣠⣀⣤⣤⣶⣾⣿⣿⢿⡿⢻⢎⢻⢷⣄⠈⠲⠀⣢⠉⠃⣼⡶⣼⠈⡸⠀⣿⠁⠂⠀⠀⠀⠀⠀⠀⠀⠀⠀⠀⠀⠀⠀\n",
    "⠀⠀⠀⠀⠀⠀⠀⠀⠀⠀⠀⠀⠀⠀⠀⠀⢀⠔⣂⠔⡁⠀⠀⣠⣔⡟⢡⠿⢹⣿⣿⣿⢿⣿⣿⣿⣿⡿⢿⢛⠻⠙⠌⠃⠀⠁⠈⠢⡹⣿⣇⠀⢠⠏⠀⢰⢪⡵⣽⣖⠁⢸⡏⠈⠀⠀⠀⠀⠀⠀⠀⠀⠀⠀⠀⠀⠀⠀\n",
    "⠀⠀⠀⠀⠀⠀⠀⠀⠀⠀⠀⠀⠀⠀⠀⠀⠁⣜⠔⠊⠀⣠⠾⠎⣱⠁⠈⠀⡌⣏⣿⣧⠉⠙⢟⡛⠏⠻⠄⠀⠀⠀⠀⠀⠀⠀⠀⠀⣽⣾⡏⠀⣏⠀⠀⣆⡟⢸⡟⢌⡶⠀⠀⠀⠀⠀⠀⠀⠀⠀⠀⠀⠀⠀⠀⠀⠀⠀\n",
    "⠀⠀⠀⠀⠀⠀⠀⠀⠀⠀⠀⠀⠀⠀⠀⠀⢰⡇⠀⠀⢸⠛⣱⡼⡽⣼⡀⢰⠇⣸⡿⡇⠀⠀⠀⠀⠀⠀⠀⠀⠀⠀⠀⠀⠀⠀⠀⠀⣘⣿⡇⠘⢳⡀⠈⢿⠇⠜⡄⢂⠡⢰⡆⠀⠀⠀⠀⠀⠀⠀⠀⠀⠀⠀⠀⠀⠀⠀\n",
    "⠀⠀⠀⠀⠀⠀⠀⠀⠀⠀⠀⠀⠀⠀⠀⠀⠈⡃⠀⠀⠁⢀⢽⣴⣻⣿⣤⢿⢀⡿⠏⠀⠀⠀⠀⠀⠀⠀⠀⠀⠀⠀⠀⠀⠀⠀⡀⠪⢔⣻⣷⡈⠀⠣⠀⠈⠿⢸⢳⡨⡦⡌⢻⠀⠀⠀⠀⠀⠀⠀⠀⠀⠀⠀⠀⠀⠀⠀\n",
    "⠀⠀⠀⠀⠀⠀⠀⠀⠀⠀⠀⠀⠀⠀⠀⠀⠀⠈⠀⣀⡀⣼⡙⢯⠧⠙⠞⢛⡟⠀⠀⡄⠀⠀⠀⠀⠀⠀⠀⠀⠀⠀⠀⠀⠀⠐⣀⣴⣿⣿⣿⠏⣆⠀⠡⢀⠀⠸⢿⡕⢰⣿⡶⠄⠀⠀⠀⠀⠀⠀⠀⠀⠀⠀⠀⠀⠀⠀\n",
    "⠀⠀⠀⠀⠀⠀⠀⠀⠀⠀⠀⠀⠀⠀⣀⣤⣤⣶⣞⣿⡿⠟⣡⠎⣠⢀⠐⠠⢀⠀⢀⡧⠀⠀⠀⠀⠀⠀⠀⠀⠀⠀⠀⠀⡠⡜⢁⡾⢻⣿⠏⠐⣟⣆⠀⢣⠳⣤⡌⢀⡾⢾⣁⠀⠀⠄⠀⠀⠀⠀⠀⠀⠀⠀⠀⠀⠀⠀\n",
    "⠀⠀⠀⠀⠀⠀⠀⠀⣀⣤⣾⣿⣿⣿⣿⣿⣷⣿⡟⠁⡐⢈⣿⢶⠏⣿⠀⣇⠀⢲⠟⠃⠱⠀⠀⠀⠀⠀⠀⠀⠀⠀⠀⠀⠀⠀⣸⠁⡻⠃⠀⠠⠟⣿⠦⠘⡿⠀⢹⣮⣟⡦⣶⢷⣤⣤⣤⣀⠀⠀⠀⠀⠀⠀⠀⠀⠀⠀\n",
    "⠀⠀⠀⠀⠀⢠⣴⣿⣿⣿⣿⣿⣿⣿⣿⣿⣿⡟⠀⣰⣟⠿⢡⣋⣾⡟⢠⠁⢧⠸⡂⠀⠀⠀⠀⠀⠀⠀⠀⠀⠀⠀⠀⠉⠀⠀⢃⠔⠁⡀⠀⠀⢮⠟⠃⠅⣇⠂⣼⠿⢋⣿⣿⣿⣿⣿⣿⣿⣷⣦⣄⡀⠀⠀⠀⠀⠀⠀\n",
    "⠀⠀⠀⠀⣴⣿⣿⣿⣿⣿⣿⣿⣾⣿⣿⣽⣿⣇⠀⡏⠡⠀⢸⣯⠟⣡⠊⠇⣏⠑⣿⣶⣄⡀⠀⠀⠀⠀⠀⠀⠀⠀⠀⠀⠀⡤⠈⡼⠰⠀⠁⣰⠏⠀⠀⡸⠁⡰⢋⣶⣿⣿⣿⣿⣟⣿⣺⣿⣿⣿⣿⣿⣦⡀⠀⠀⠀⠀\n",
    "⠀⠀⠀⣸⣿⣿⣿⣿⣿⣿⣿⣿⣾⣿⣿⣿⣿⣿⣄⠛⢠⡅⠋⣤⣾⣿⣧⢀⣯⠷⡤⡈⢻⣿⣿⣶⣶⣶⣶⣶⣶⣶⣾⣿⣧⣌⢸⢁⠀⠀⠀⢁⡀⠀⢔⠀⡔⠠⣿⣿⣿⣿⣟⣿⣗⣿⣖⣿⣿⣿⣿⣿⣿⣷⡀⠀⠀⠀\n",
    "⠀⠀⢀⣿⣿⣿⣿⣿⣿⣿⣿⣿⣿⣿⣿⣿⣿⣿⣿⡇⣸⡇⠄⢻⡿⣋⣵⢪⣏⠀⠹⡵⡄⢻⣿⣿⣿⣿⣿⣿⣿⣿⣿⣿⣷⣿⠀⣸⡄⠀⡪⠈⡄⢁⡎⢰⡇⠀⣿⣿⣿⣿⣿⣿⣿⣿⣿⣿⣿⣿⣿⣿⣿⣿⣧⠀⠀⠀\n",
    "⠀⠀⢸⣿⣿⣿⣿⣿⣿⣿⣿⣿⣿⣿⣿⣿⣿⣿⣿⣿⢠⣼⣿⡜⣿⣿⣇⢠⣿⡄⠀⢻⣿⠘⣿⣿⣿⣿⣿⣿⣿⣿⣿⣿⣧⣿⡀⡛⣸⠀⠇⠘⢧⢀⠀⣧⢻⡀⠘⢿⣿⣿⣿⣿⣿⣿⣿⣿⣿⣿⣿⣿⣿⣿⣿⡀⠀⠀\n",
    "⠀⠀⣿⣿⣿⣿⣿⣿⣿⣿⣿⣿⣿⣿⣿⣿⣿⣿⢯⣵⣿⣿⣾⡿⣽⡿⡇⢸⣿⣿⠀⢨⣿⠀⣿⣿⣿⣿⣿⣿⣿⣿⣷⣿⣺⣿⠂⠁⣿⠆⢡⢲⢌⣞⠷⡾⡙⠢⠀⠐⣾⣿⣿⣿⣿⣿⣿⣿⣿⣿⣿⣿⣿⣿⣿⣇⠀⠀\n",
    "⠀⢰⣿⣿⣿⣿⣿⣿⣿⣿⣿⣿⣿⣿⣿⣿⣿⣿⣿⣿⣿⣿⣿⡯⣿⡯⡇⣿⣿⠽⢠⣿⡿⣿⣿⣿⣿⣿⣿⣿⣿⣿⢽⣿⢿⡯⣵⠀⣡⠆⠁⣊⢜⣾⣄⡀⠉⠱⣾⣶⣿⣿⣿⣿⣿⣿⣿⣿⣿⣿⣿⣿⣿⣿⣿⣿⠀⠀\n",
    "⠀⣼⣿⣿⣿⣿⣿⣿⣿⣿⣿⣿⣿⣿⣿⣿⣿⣿⣿⣿⣿⣿⣿⣿⣿⣿⣿⣿⡿⣡⣾⣿⣯⣿⣯⣿⣿⣿⢿⣿⣿⣿⣿⣿⣿⣯⣿⡯⠃⣠⡶⣣⣾⣿⣿⣷⣮⣴⣾⣿⣿⣿⣿⣿⣿⣿⣿⣿⣿⣿⣿⣿⣿⣿⣿⣿⡆⠀\n",
    "⠀⣿⣿⣿⣿⣿⣿⣿⣿⣿⣿⣿⣿⣿⣿⣿⣿⣿⣿⣿⣿⣿⣿⣿⣿⣿⣿⣫⣾⣿⣿⣿⣿⣿⣿⣿⣿⣿⣿⣿⣿⣿⣿⣟⣿⣗⣏⣠⣾⣻⣷⣻⣿⣿⣿⣿⣿⣿⣿⣿⣿⣿⣿⣿⣿⣿⣿⣿⣿⣿⣿⣿⣿⣿⣿⣿⣇⠀\n",
    "⠀⣿⣿⣿⣿⣿⣿⣿⣿⣿⣿⣿⣿⣿⣿⣿⣿⣿⣿⣿⣿⣿⣿⣿⣿⣿⣿⣿⣿⣿⣿⣿⣿⣿⣿⣿⣿⣿⣾⣿⣿⣿⣿⣷⣿⣷⣿⣿⣿⣻⣿⢿⣿⣿⣿⣿⣿⣿⣿⣿⣿⣿⣿⣿⣿⣿⣿⣿⣿⣿⣿⣿⣿⣿⣿⣿⣿⠀\n",
    "⢰⣿⣿⣿⣿⣿⣿⣿⣿⣿⣿⣿⣿⣿⣿⣿⣿⣿⣿⣿⣿⣿⣿⣿⣿⣿⣿⣿⣿⣿⣷⣿⣿⣿⣿⣿⣿⣿⣾⣿⣿⣿⣿⣿⣿⣿⣿⣿⣿⣿⣿⣿⣿⣿⣿⣿⣿⣿⣿⣿⣿⣿⣿⣿⣿⣿⣿⣿⣿⣿⣿⣿⣿⣿⣿⣿⣿⡆\n",
    "⢸⣿⣿⣿⣿⣿⣿⣿⣿⣿⣿⣿⣿⣿⣿⣿⣿⣿⣿⣿⣿⣿⣿⣿⣿⣿⣿⣿⣿⣿⣿⣿⣿⣿⣿⣿⣿⣿⣿⣿⣿⣿⣿⣿⣿⣿⣿⣿⣿⣿⣿⣿⣿⣿⣿⣿⣿⣿⣿⣿⣿⣿⣿⣿⣿⣿⣿⣿⣿⣿⣿⣿⣿⣿⣿⣿⣿⠁\n",
    "⢺⠿⢿⣿⣿⣿⣿⣿⣿⣿⣿⣿⣿⣿⣿⣿⣿⣿⣿⣿⣿⣿⣿⣿⣿⣿⣿⣿⣿⣿⣿⣿⣿⣿⣿⣿⣿⣿⣿⣿⣿⣿⣿⣿⣿⣿⣿⣿⣿⣿⣿⣿⣿⣿⣿⣿⣿⣿⣿⣿⣿⣿⣿⣿⣿⣿⣿⣿⣿⣿⣿⣿⣿⣿⣿⣿⣿⠀\n",
    "⢸⠀⠀⠀⠀⠉⠙⠛⠻⠿⣿⣿⣿⣿⣿⣿⣿⣿⣿⣿⣿⣿⣿⣿⣿⣿⣿⣿⣿⣿⣿⣿⣿⣿⣿⣿⣿⣿⣿⣿⣿⣿⣿⣿⣿⣿⣿⣿⣿⣿⣿⣿⣿⣿⣿⣿⣿⣿⣿⣿⣿⣿⣿⣿⣿⣿⣿⣿⣿⣿⣿⠿⠿⠿⠟⠟⢻⠀\n",
    "⣰⠀⠀⠀⠀⠀⠀⠀⠀⠀⠀⠀⠉⣹⣿⣿⣿⣿⣿⣿⣿⣿⣿⣿⣿⣿⣿⣿⣿⣿⣿⣿⣿⣿⣿⣿⣿⣿⣿⣿⣿⣿⣿⣿⣿⣿⣿⣿⣿⣿⣿⣿⣿⣿⣿⣿⣿⣿⣿⣿⣿⣿⣿⣿⣟⠋⠉⠉⠉⠀⠀⠀⠀⠀⠀⠀⢸⠀\"\"\")"
   ]
  },
  {
   "cell_type": "code",
   "execution_count": 24,
   "id": "ba96d814-1dd6-4237-92d5-1a72ef65ef7b",
   "metadata": {},
   "outputs": [
    {
     "name": "stdout",
     "output_type": "stream",
     "text": [
      "                                                                                                                \n",
      "                                                                           \n",
      " /,*/*#*#*/(*(*(**/*%*//,                                           \n",
      " #*//**/%/%/%*&/&(#*#*#(#/(//#***,                                  \n",
      " (*(/*//%/&/&/&/%(&/&/&*&/&(%*///(*%/*,,,                                   \n",
      " /*/%/%/#*(*(#(//#/#(((#/*(((/((((/#*&/(/*/**,                             \n",
      " ///%/(((%(#((//#/#/&/&(&(&(&(&(&(&(%(%/%#%(/(/%/*,,       \n",
      " //(#//#/%/((/%/%(#((((((&(%(%(%(#(%(#(%(%(&*&(%(/#*%(**,              \n",
      " *#/#//%((#/#//%/%((((#(#(#/&#%(%*%(%/%%((#%###&(&(&(&((/*%/(/,              \n",
      " *%/(/*#*((/#//#(/%/%/(((#((/%(%(%(&(&(&/%(%/%#&(%#%#%(%#%(%%#(//(%*,    \n",
      " ,#/*/***,*,,,,,*****#/%(%(#(/(#%(#(#/(((%(%(#(#%###%##(&(&(%*&(#/*#*%/,,        \n",
      "                     *(/(%(%((/%###(#*#/#/##(%(&#%(&(%#%#%##((#(#(%/#/(/,      \n",
      "                      ,*#//((#(%((/*(/%(%(#(/(#%%%%#/###(#(%(%(&#%#&#&#%#/*,,\n",
      "                        *#/(#(%(#((((#/(((#(##(%((#(%(((/%(#/%%(%(&*%(&/%(#/*****,,   \n",
      "                        ,/#/%//#/%/#((#(#((%(#(/(#(%((#(%#(###%##((#/&(&(&/%(%/%/#/***,,\n",
      "                             **#((//%/#((%(%((#(%(#(///(#((%##/##((&((((%%%((//(#(#(#/%(#(/,*,,\n",
      "                                */#/(//(((&((((%(#((%/*/%/**/#(/((((#(/%##/(###(((((#(%(%(#(%/#/*,,\n",
      "                                       */%/#(//#/%(#((#(***,,  */#**/%**%/*(///(//#/(//(((#((///((/(/#,,\n",
      "                                            /#(///(((%/#//#**,  *((**((***#/*/#*/%/*%//(/%/*#/*(*%/%/#*##((*#,. \n",
      "                                              *((/%//%/#/(///*,   #/**%/  #/*#/*/(**#/*%/#/,     *//*((#(/**(*##*.\n",
      "                                                 *%//#/%/#//#/*,,   (/,    %**%/,, *(**%/#//(\n",
      "                                                     //,*#*&/(/*(,,         %*,(/,,   *#**%//(,,     \n",
      "                                                        *#*(*/%/%//*        ,,%*,%*,,   ,//,*(***,       \n",
      "                                                         //*%*(//(*#,         ,(/,*/,,   ,*#,*#,/#,.          \n",
      "                                                           ,//*,(*#/#*,,         ,%*,#*       ,//,//,,*.           \n",
      "                                                                #*%*              ,#,,#,        ,,#,,%,...           \n",
      "                                                                                   .,%*              .**.,              \n",
      "                                                                                                                      \n"
     ]
    }
   ],
   "source": [
    "print(\"\"\"                                                                                                                \n",
    "                                                                           \n",
    " /,*/*#*#*/(*(*(**/*%*//,                                           \n",
    " #*//**/%/%/%*&/&(#*#*#(#/(//#***,                                  \n",
    " (*(/*//%/&/&/&/%(&/&/&*&/&(%*///(*%/*,,,                                   \n",
    " /*/%/%/#*(*(#(//#/#(((#/*(((/((((/#*&/(/*/**,                             \n",
    " ///%/(((%(#((//#/#/&/&(&(&(&(&(&(&(%(%/%#%(/(/%/*,,       \n",
    " //(#//#/%/((/%/%(#((((((&(%(%(%(#(%(#(%(%(&*&(%(/#*%(**,              \n",
    " *#/#//%((#/#//%/%((((#(#(#/&#%(%*%(%/%%((#%###&(&(&(&((/*%/(/,              \n",
    " *%/(/*#*((/#//#(/%/%/(((#((/%(%(%(&(&(&/%(%/%#&(%#%#%(%#%(%%#(//(%*,    \n",
    " ,#/*/***,*,,,,,*****#/%(%(#(/(#%(#(#/(((%(%(#(#%###%##(&(&(%*&(#/*#*%/,,        \n",
    "                     *(/(%(%((/%###(#*#/#/##(%(&#%(&(%#%#%##((#(#(%/#/(/,      \n",
    "                      ,*#//((#(%((/*(/%(%(#(/(#%%%%#/###(#(%(%(&#%#&#&#%#/*,,\n",
    "                        *#/(#(%(#((((#/(((#(##(%((#(%(((/%(#/%%(%(&*%(&/%(#/*****,,   \n",
    "                        ,/#/%//#/%/#((#(#((%(#(/(#(%((#(%#(###%##((#/&(&(&/%(%/%/#/***,,\n",
    "                             **#((//%/#((%(%((#(%(#(///(#((%##/##((&((((%%%((//(#(#(#/%(#(/,*,,\n",
    "                                */#/(//(((&((((%(#((%/*/%/**/#(/((((#(/%##/(###(((((#(%(%(#(%/#/*,,\n",
    "                                       */%/#(//#/%(#((#(***,,  */#**/%**%/*(///(//#/(//(((#((///((/(/#,,\n",
    "                                            /#(///(((%/#//#**,  *((**((***#/*/#*/%/*%//(/%/*#/*(*%/%/#*##((*#,. \n",
    "                                              *((/%//%/#/(///*,   #/**%/  #/*#/*/(**#/*%/#/,     *//*((#(/**(*##*.\n",
    "                                                 *%//#/%/#//#/*,,   (/,    %**%/,, *(**%/#//(\n",
    "                                                     //,*#*&/(/*(,,         %*,(/,,   *#**%//(,,     \n",
    "                                                        *#*(*/%/%//*        ,,%*,%*,,   ,//,*(***,       \n",
    "                                                         //*%*(//(*#,         ,(/,*/,,   ,*#,*#,/#,.          \n",
    "                                                           ,//*,(*#/#*,,         ,%*,#*       ,//,//,,*.           \n",
    "                                                                #*%*              ,#,,#,        ,,#,,%,...           \n",
    "                                                                                   .,%*              .**.,              \n",
    "                                                                                                                      \"\"\")"
   ]
  },
  {
   "cell_type": "code",
   "execution_count": 25,
   "id": "05230ab6-d4c3-44fa-99a4-780291243562",
   "metadata": {},
   "outputs": [
    {
     "name": "stdout",
     "output_type": "stream",
     "text": [
      "&&@@&&@&&@@&@@&&@&&@@&@@&&@&&@@&@@&&@@&@&&&&&&&&&&&&&%&&&&&&&&&@@&@@&&@&&@@&@@&&@&&@@&@@&&@&&@@&&@&&\n",
      "@@&&@&&@@&&@&&@@&@@&&@&&@@&@@&&@&%@@&%&&&&&&&&&&&#%%&&&&&&&&&&&%@@&&@@&@@&&@&&@@&@@&&@&&@@&&@&&@@&@@\n",
      "@@&&@&&@@&&@&&@@&@@&&@&&@@&@@&&@&&%&&&&&&&&#/,/*,,&(&&&%&&&(&*/%&&&&@@&@@&&@&&@@&@@&&@&&@@&@@&&@@&@@\n",
      "&&@@&&@&&@@&@@&&@&&@@&@@&&@&&@%&&&%&&&#&&&&&&#,..&&%&&%%%#*#%%&&&&&@,%@&&@@&@@&&@&&@@&@@&&@&&@@&&@&&\n",
      "&&@@&&@&&@@&@@&&@&&@@&@@&&@&%@&&@&&&(&%%(/*.,*/,.,,/,,*,,//./%(,.*,,*#&&&@@&@@&&@&&@@&@@&&@&&@@&&@&&\n",
      "@@&&@&&@@&&@&&@@&@@&&@&&@@&&/,&&(,#//#*/*,,.,,..,*,*..**,,...,(%#%%&#...@&&@&&@@&@@&&@&&@@&@@&&@@&@@\n",
      "@@&&@&&@@&&@&&@@&@@&&@&&@&%&@#/&&%%#..,.*.**********,,,,,***,**,***.*(/%%&&@&&@@&@@&&@&&@@&@@&&@@&@@\n",
      "&&@@&&@&&@@&@@&&@&&@@&@@&&@#,,..**,,...*###((//***/**,,**/*//*,*,,.,**,*%@@&@@&&@&&@@&@@&&@&&@@&&@&&\n",
      "&&@@&&@&&@@&@@&&@&&@@&@@&&%/(**%/,,.*//#&##&%%#%#(/(((#%%%#****,,,,.*..,&@@&@@&&@&&@@&@@&&@&&@@&&@&&\n",
      "@@&&@&&@@&&@&&@@&@@&&@&&@@&@&%,*,,*//((#&%#////*//(/////((///***,,,...%@@&&@&&@@&@@&&@&&@@&@@&&@@&@@\n",
      "@@&&@&&@@&&@&&@@&@@&&@&&@@&@@/,*/,,/##(/#*(/,,.,*/&&(/,.*//.*,**,,.*,,&@@&&@&&@@&@@&&@&&@@&@@&&@@&@@\n",
      "&&@@&&@&&@@&@@&&@&&@@&@@&&@&&@@%#.(#%&&&&&//((//%&&&&(/***//(##(/*.*,%@&&@@&@@&&@&&@@&@@&&@&&@@&&@&&\n",
      "&&@@&&@&&@@&@@&&@&&@@&@@&&@&&@@&@(*(&&&&&&&&&&&&&&&&&##%%%&&%&#(/**&&&@&&@@&@@&&@&&@@&@@&&@&&@@&&@&&\n",
      "@@&&@&&@@&&@&&@@&@@&&@&&@@&@@&&@&&/####%&&&&&&%#/&&&&&&(%&&%%#(//@&&@@&@@&&@&&@@&@@&&@&&@@&@@&&@@&@@\n",
      "@@&&@&&@@&&@&&@@&@@&&@&&@@&@@&&@&&@(#%##&%&&%%&&//(#//,&&%%##(///@&&@@&@@&&@&&@@&@@&&@&&@@&@@&&@@&@@\n",
      "&&@@&&@&&@@&@@&&@&&@@&@@&&@&&@@&@@&%(%%%%%%&&&&&&&%**,*%&&&%#((//&@@&&@&&@@&@@&&@&&@@&@@&&@&&@@&&@&&\n",
      "&&@@&&@&&@@&@@&&@&&@@&@@&&@&&@@&@@&&&/####%%%(///*,/,,,,/(((//(*@&@@&&@&&@@&@@&&@&&@@&@@&&@&&@@&&@&&\n",
      "@@&&@&&@@&&@&&@@&@@&&@&&@@&@@&&@&&@@&&@&#####%&&#//*,//#%#(/(/,*@@&&@@&@@&&@&&@@&@@&&@&&@@&@@&&@@&@@\n",
      "@@&&@&&@@&&@&&@@&@@&&@&&@@&@@&&@&&@@&&@%%#((##&&&&&&%&&%#///,***@@&&@@&@@&&@&&@@&@@&&@&&@@&@@&&@@&@@\n",
      "&&@@&&@&&@@&@@&&@&&@@&@@&&@&&@@&@@&&@@&@%%%#(((((///(///(/,**///*&@@&&@&&@@&@@&&@&&@@&@@&&@&&@@&&@&&\n",
      "&&@@&&@&&@@&@@&&@&&@@&@@&&@&&@@&@@&&@@&@%%&%##/((*/*/***,***(###(/%@&&@&&@@&@@&&@&&@@&@@&&@&&@@&&@&&\n",
      "@@&&@&&@@&&@&&@@&@@&&@&&@@&@@&&@&&@@&&@&%%%%%%%%#///******/##%%##(#%#%%%&&&@&&@@&@@&&@&&@@&@@&&@@&@@\n",
      "@@&&@&&@@&&@&&@@&@@&&@&&@@&@@&&@&&@@&&@&&%%&####((///////##%%%%##%&&&&&&&&&&&&@@&@@&&@&&@@&@@&&@@&@@\n",
      "&&@@&&@&&@@&@@&&@&&@@&@@&&@&&@@&@@&&@@&@@&&&%%%#%##&&&#(#%%%%%%%&&&&&&&&&&&&@@&&@&&@@&@@&&@&&@@&&@&&\n"
     ]
    }
   ],
   "source": [
    "print(\"\"\"&&@@&&@&&@@&@@&&@&&@@&@@&&@&&@@&@@&&@@&@&&&&&&&&&&&&&%&&&&&&&&&@@&@@&&@&&@@&@@&&@&&@@&@@&&@&&@@&&@&&\n",
    "@@&&@&&@@&&@&&@@&@@&&@&&@@&@@&&@&%@@&%&&&&&&&&&&&#%%&&&&&&&&&&&%@@&&@@&@@&&@&&@@&@@&&@&&@@&&@&&@@&@@\n",
    "@@&&@&&@@&&@&&@@&@@&&@&&@@&@@&&@&&%&&&&&&&&#/,/*,,&(&&&%&&&(&*/%&&&&@@&@@&&@&&@@&@@&&@&&@@&@@&&@@&@@\n",
    "&&@@&&@&&@@&@@&&@&&@@&@@&&@&&@%&&&%&&&#&&&&&&#,..&&%&&%%%#*#%%&&&&&@,%@&&@@&@@&&@&&@@&@@&&@&&@@&&@&&\n",
    "&&@@&&@&&@@&@@&&@&&@@&@@&&@&%@&&@&&&(&%%(/*.,*/,.,,/,,*,,//./%(,.*,,*#&&&@@&@@&&@&&@@&@@&&@&&@@&&@&&\n",
    "@@&&@&&@@&&@&&@@&@@&&@&&@@&&/,&&(,#//#*/*,,.,,..,*,*..**,,...,(%#%%&#...@&&@&&@@&@@&&@&&@@&@@&&@@&@@\n",
    "@@&&@&&@@&&@&&@@&@@&&@&&@&%&@#/&&%%#..,.*.**********,,,,,***,**,***.*(/%%&&@&&@@&@@&&@&&@@&@@&&@@&@@\n",
    "&&@@&&@&&@@&@@&&@&&@@&@@&&@#,,..**,,...*###((//***/**,,**/*//*,*,,.,**,*%@@&@@&&@&&@@&@@&&@&&@@&&@&&\n",
    "&&@@&&@&&@@&@@&&@&&@@&@@&&%/(**%/,,.*//#&##&%%#%#(/(((#%%%#****,,,,.*..,&@@&@@&&@&&@@&@@&&@&&@@&&@&&\n",
    "@@&&@&&@@&&@&&@@&@@&&@&&@@&@&%,*,,*//((#&%#////*//(/////((///***,,,...%@@&&@&&@@&@@&&@&&@@&@@&&@@&@@\n",
    "@@&&@&&@@&&@&&@@&@@&&@&&@@&@@/,*/,,/##(/#*(/,,.,*/&&(/,.*//.*,**,,.*,,&@@&&@&&@@&@@&&@&&@@&@@&&@@&@@\n",
    "&&@@&&@&&@@&@@&&@&&@@&@@&&@&&@@%#.(#%&&&&&//((//%&&&&(/***//(##(/*.*,%@&&@@&@@&&@&&@@&@@&&@&&@@&&@&&\n",
    "&&@@&&@&&@@&@@&&@&&@@&@@&&@&&@@&@(*(&&&&&&&&&&&&&&&&&##%%%&&%&#(/**&&&@&&@@&@@&&@&&@@&@@&&@&&@@&&@&&\n",
    "@@&&@&&@@&&@&&@@&@@&&@&&@@&@@&&@&&/####%&&&&&&%#/&&&&&&(%&&%%#(//@&&@@&@@&&@&&@@&@@&&@&&@@&@@&&@@&@@\n",
    "@@&&@&&@@&&@&&@@&@@&&@&&@@&@@&&@&&@(#%##&%&&%%&&//(#//,&&%%##(///@&&@@&@@&&@&&@@&@@&&@&&@@&@@&&@@&@@\n",
    "&&@@&&@&&@@&@@&&@&&@@&@@&&@&&@@&@@&%(%%%%%%&&&&&&&%**,*%&&&%#((//&@@&&@&&@@&@@&&@&&@@&@@&&@&&@@&&@&&\n",
    "&&@@&&@&&@@&@@&&@&&@@&@@&&@&&@@&@@&&&/####%%%(///*,/,,,,/(((//(*@&@@&&@&&@@&@@&&@&&@@&@@&&@&&@@&&@&&\n",
    "@@&&@&&@@&&@&&@@&@@&&@&&@@&@@&&@&&@@&&@&#####%&&#//*,//#%#(/(/,*@@&&@@&@@&&@&&@@&@@&&@&&@@&@@&&@@&@@\n",
    "@@&&@&&@@&&@&&@@&@@&&@&&@@&@@&&@&&@@&&@%%#((##&&&&&&%&&%#///,***@@&&@@&@@&&@&&@@&@@&&@&&@@&@@&&@@&@@\n",
    "&&@@&&@&&@@&@@&&@&&@@&@@&&@&&@@&@@&&@@&@%%%#(((((///(///(/,**///*&@@&&@&&@@&@@&&@&&@@&@@&&@&&@@&&@&&\n",
    "&&@@&&@&&@@&@@&&@&&@@&@@&&@&&@@&@@&&@@&@%%&%##/((*/*/***,***(###(/%@&&@&&@@&@@&&@&&@@&@@&&@&&@@&&@&&\n",
    "@@&&@&&@@&&@&&@@&@@&&@&&@@&@@&&@&&@@&&@&%%%%%%%%#///******/##%%##(#%#%%%&&&@&&@@&@@&&@&&@@&@@&&@@&@@\n",
    "@@&&@&&@@&&@&&@@&@@&&@&&@@&@@&&@&&@@&&@&&%%&####((///////##%%%%##%&&&&&&&&&&&&@@&@@&&@&&@@&@@&&@@&@@\n",
    "&&@@&&@&&@@&@@&&@&&@@&@@&&@&&@@&@@&&@@&@@&&&%%%#%##&&&#(#%%%%%%%&&&&&&&&&&&&@@&&@&&@@&@@&&@&&@@&&@&&\"\"\")"
   ]
  },
  {
   "cell_type": "markdown",
   "id": "a172086b-fc4b-4cf6-a834-66721fe6462a",
   "metadata": {},
   "source": [
    "# Test"
   ]
  },
  {
   "cell_type": "markdown",
   "id": "60f1b3b6-7eed-4686-acf1-245c7dedb19a",
   "metadata": {},
   "source": [
    "-------------------------------------"
   ]
  },
  {
   "cell_type": "code",
   "execution_count": 27,
   "id": "881c5298-8d65-47ee-802a-946d7ffdb9c3",
   "metadata": {},
   "outputs": [
    {
     "data": {
      "text/plain": [
       "('welcome', [22, 4, 11, 2, 14, 12, 4])"
      ]
     },
     "execution_count": 27,
     "metadata": {},
     "output_type": "execute_result"
    }
   ],
   "source": [
    "decode_caeser(text=\"GOVMYWO\".lower(),key=10)"
   ]
  },
  {
   "cell_type": "code",
   "execution_count": 33,
   "id": "06d52a1e-d045-4280-8157-2f540ee0cbc7",
   "metadata": {},
   "outputs": [
    {
     "data": {
      "text/plain": [
       "('lose', [11, 14, 18, 4])"
      ]
     },
     "execution_count": 33,
     "metadata": {},
     "output_type": "execute_result"
    }
   ],
   "source": [
    "decode_affine(text=\"JEGM\".lower(),key1=7, key2=10)"
   ]
  },
  {
   "cell_type": "code",
   "execution_count": 54,
   "id": "f50d8b9e-e175-4a58-ab73-59d7fce085d7",
   "metadata": {},
   "outputs": [
    {
     "data": {
      "text/plain": [
       "('hloeodlby', ['hel', 'lob', 'ody'])"
      ]
     },
     "execution_count": 54,
     "metadata": {},
     "output_type": "execute_result"
    }
   ],
   "source": [
    "encode_keyless_transition(\"hellobody\",3)"
   ]
  },
  {
   "cell_type": "code",
   "execution_count": 37,
   "id": "ae16daa7-8888-4ed6-b554-819348e04383",
   "metadata": {},
   "outputs": [
    {
     "data": {
      "text/plain": [
       "'yvlmsukokmnj'"
      ]
     },
     "execution_count": 37,
     "metadata": {},
     "output_type": "execute_result"
    }
   ],
   "source": [
    "encode_vigenere(text=\"sheisreading\",key=\"gohead\")"
   ]
  },
  {
   "cell_type": "code",
   "execution_count": 83,
   "id": "0223f7cc-39c6-4f39-bc2b-9720db990b5b",
   "metadata": {},
   "outputs": [
    {
     "name": "stdout",
     "output_type": "stream",
     "text": [
      "(0,0) for w and (1,3) for e\n",
      "(0,3) for l and (1,2) for c\n",
      "(0,1) for o and (2,4) for m\n",
      "(1,3) for e and (4,2) for x\n"
     ]
    },
    {
     "data": {
      "text/plain": [
       "('laredhcy',\n",
       "    0  1  2  3  4\n",
       " 0  w  o  r  l  d\n",
       " 1  a  b  c  e  f\n",
       " 2  g  h  i  k  m\n",
       " 3  n  p  q  s  t\n",
       " 4  u  v  x  y  z)"
      ]
     },
     "execution_count": 83,
     "metadata": {},
     "output_type": "execute_result"
    }
   ],
   "source": [
    "encode_playfair(text=\"welcome\",key=\"world war\",show=False)"
   ]
  },
  {
   "cell_type": "code",
   "execution_count": null,
   "id": "be0def47-34fe-4fbb-bfec-92a903b870ac",
   "metadata": {},
   "outputs": [],
   "source": []
  }
 ],
 "metadata": {
  "kernelspec": {
   "display_name": "Python 3 (ipykernel)",
   "language": "python",
   "name": "python3"
  },
  "language_info": {
   "codemirror_mode": {
    "name": "ipython",
    "version": 3
   },
   "file_extension": ".py",
   "mimetype": "text/x-python",
   "name": "python",
   "nbconvert_exporter": "python",
   "pygments_lexer": "ipython3",
   "version": "3.9.13"
  },
  "toc-showtags": false
 },
 "nbformat": 4,
 "nbformat_minor": 5
}
